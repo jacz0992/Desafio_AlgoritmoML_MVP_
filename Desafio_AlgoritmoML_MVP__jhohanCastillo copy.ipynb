{
 "cells": [
  {
   "cell_type": "code",
   "execution_count": 22,
   "metadata": {},
   "outputs": [],
   "source": [
    "import pandas as pd\n",
    "import numpy as np\n",
    "import matplotlib.pyplot as plt"
   ]
  },
  {
   "cell_type": "code",
   "execution_count": 23,
   "metadata": {},
   "outputs": [],
   "source": [
    "DATA_PATH = 'Inclusion_Financiera.csv'\n",
    "data = pd.read_csv(DATA_PATH)"
   ]
  },
  {
   "cell_type": "code",
   "execution_count": 24,
   "metadata": {},
   "outputs": [],
   "source": [
    "### generación de data wrangling a la tabla\n",
    "\n",
    "# Descartar columnas no deseadas\n",
    "columnas_descartadas = ['TIPO DE ENTIDAD', 'CODIGO DE LA  ENTIDAD', 'RENGLON', 'UNIDAD DE CAPTURA']\n",
    "data_descartada = data.drop(columns=columnas_descartadas)\n",
    "\n",
    "\n",
    "# Rellenar valores faltantes con cero\n",
    "data = data.fillna(0)"
   ]
  },
  {
   "cell_type": "code",
   "execution_count": 25,
   "metadata": {},
   "outputs": [
    {
     "data": {
      "text/html": [
       "<div>\n",
       "<style scoped>\n",
       "    .dataframe tbody tr th:only-of-type {\n",
       "        vertical-align: middle;\n",
       "    }\n",
       "\n",
       "    .dataframe tbody tr th {\n",
       "        vertical-align: top;\n",
       "    }\n",
       "\n",
       "    .dataframe thead th {\n",
       "        text-align: right;\n",
       "    }\n",
       "</style>\n",
       "<table border=\"1\" class=\"dataframe\">\n",
       "  <thead>\n",
       "    <tr style=\"text-align: right;\">\n",
       "      <th></th>\n",
       "      <th>NOMBRE DE LA  ENTIDAD</th>\n",
       "      <th>FECHA DE CORTE</th>\n",
       "      <th>DEPARTAMENTO</th>\n",
       "      <th>MUNICIPIO</th>\n",
       "      <th>TIPO</th>\n",
       "      <th>NRO CORRESPONSALES PROPIOS</th>\n",
       "      <th>NRO CORRESPONSALES TERCERIZADOS</th>\n",
       "      <th>NRO CORRESPONSALES ACTIVOS</th>\n",
       "      <th>NRO CORRESPONSALES</th>\n",
       "      <th>NRO DEPOSITOS</th>\n",
       "      <th>...</th>\n",
       "      <th>NRO MICROCREDITO&gt; 10SMMLV HASTA 25SMMLV</th>\n",
       "      <th>MONTO MICROCREDI&gt; 10SMMLV HASTA 25SMMLV</th>\n",
       "      <th>NRO MICROCREDITO MUJERES</th>\n",
       "      <th>MONTO MICROCREDITO MUJERES</th>\n",
       "      <th>NRO MICROCREDITO HOMBRES</th>\n",
       "      <th>MONTO MICROCREDITO HOMBRES</th>\n",
       "      <th>NRO TOTAL MICROCREDITO</th>\n",
       "      <th>MONTO TOTAL MICROCREDITO</th>\n",
       "      <th>NRO PROD DEPOSITO NIVEL NACIONAL</th>\n",
       "      <th>MONTO PROD DEPOSITO NIVEL NACIONAL</th>\n",
       "    </tr>\n",
       "  </thead>\n",
       "  <tbody>\n",
       "    <tr>\n",
       "      <th>0</th>\n",
       "      <td>Banco Davivienda</td>\n",
       "      <td>31/12/2017</td>\n",
       "      <td>ANTIOQUIA</td>\n",
       "      <td>URRAO</td>\n",
       "      <td>TRANS Y TRAMITES EN CORRESPONSALES</td>\n",
       "      <td>0</td>\n",
       "      <td>0</td>\n",
       "      <td>0</td>\n",
       "      <td>0</td>\n",
       "      <td>0</td>\n",
       "      <td>...</td>\n",
       "      <td>0</td>\n",
       "      <td>0.0</td>\n",
       "      <td>0</td>\n",
       "      <td>0.0</td>\n",
       "      <td>0</td>\n",
       "      <td>0.0</td>\n",
       "      <td>0</td>\n",
       "      <td>0.0</td>\n",
       "      <td>0.0</td>\n",
       "      <td>0.0</td>\n",
       "    </tr>\n",
       "    <tr>\n",
       "      <th>1</th>\n",
       "      <td>Citibank</td>\n",
       "      <td>31/12/2017</td>\n",
       "      <td>ANTIOQUIA</td>\n",
       "      <td>CONCORDIA</td>\n",
       "      <td>TRANS Y TRAMITES EN CORRESPONSALES</td>\n",
       "      <td>0</td>\n",
       "      <td>0</td>\n",
       "      <td>0</td>\n",
       "      <td>0</td>\n",
       "      <td>42</td>\n",
       "      <td>...</td>\n",
       "      <td>0</td>\n",
       "      <td>0.0</td>\n",
       "      <td>0</td>\n",
       "      <td>0.0</td>\n",
       "      <td>0</td>\n",
       "      <td>0.0</td>\n",
       "      <td>0</td>\n",
       "      <td>0.0</td>\n",
       "      <td>0.0</td>\n",
       "      <td>0.0</td>\n",
       "    </tr>\n",
       "    <tr>\n",
       "      <th>2</th>\n",
       "      <td>Banco De Bogota</td>\n",
       "      <td>31/12/2017</td>\n",
       "      <td>ANTIOQUIA</td>\n",
       "      <td>ITAGUI</td>\n",
       "      <td>CREDITO DE VIVIENDA</td>\n",
       "      <td>0</td>\n",
       "      <td>0</td>\n",
       "      <td>0</td>\n",
       "      <td>0</td>\n",
       "      <td>0</td>\n",
       "      <td>...</td>\n",
       "      <td>0</td>\n",
       "      <td>0.0</td>\n",
       "      <td>0</td>\n",
       "      <td>0.0</td>\n",
       "      <td>0</td>\n",
       "      <td>0.0</td>\n",
       "      <td>0</td>\n",
       "      <td>0.0</td>\n",
       "      <td>0.0</td>\n",
       "      <td>0.0</td>\n",
       "    </tr>\n",
       "    <tr>\n",
       "      <th>3</th>\n",
       "      <td>Coopcentral</td>\n",
       "      <td>31/12/2017</td>\n",
       "      <td>ANTIOQUIA</td>\n",
       "      <td>MEDELLIN</td>\n",
       "      <td>MICROCREDITO</td>\n",
       "      <td>0</td>\n",
       "      <td>0</td>\n",
       "      <td>0</td>\n",
       "      <td>0</td>\n",
       "      <td>0</td>\n",
       "      <td>...</td>\n",
       "      <td>0</td>\n",
       "      <td>0.0</td>\n",
       "      <td>0</td>\n",
       "      <td>0.0</td>\n",
       "      <td>1</td>\n",
       "      <td>29000000.0</td>\n",
       "      <td>1</td>\n",
       "      <td>29000000.0</td>\n",
       "      <td>0.0</td>\n",
       "      <td>0.0</td>\n",
       "    </tr>\n",
       "    <tr>\n",
       "      <th>4</th>\n",
       "      <td>Bancamía S.A.</td>\n",
       "      <td>31/12/2017</td>\n",
       "      <td>ANTIOQUIA</td>\n",
       "      <td>SAN CARLOS</td>\n",
       "      <td>CORRESPONSALES</td>\n",
       "      <td>0</td>\n",
       "      <td>1</td>\n",
       "      <td>1</td>\n",
       "      <td>1</td>\n",
       "      <td>0</td>\n",
       "      <td>...</td>\n",
       "      <td>0</td>\n",
       "      <td>0.0</td>\n",
       "      <td>0</td>\n",
       "      <td>0.0</td>\n",
       "      <td>0</td>\n",
       "      <td>0.0</td>\n",
       "      <td>0</td>\n",
       "      <td>0.0</td>\n",
       "      <td>0.0</td>\n",
       "      <td>0.0</td>\n",
       "    </tr>\n",
       "  </tbody>\n",
       "</table>\n",
       "<p>5 rows × 83 columns</p>\n",
       "</div>"
      ],
      "text/plain": [
       "  NOMBRE DE LA  ENTIDAD FECHA DE CORTE DEPARTAMENTO   MUNICIPIO  \\\n",
       "0      Banco Davivienda     31/12/2017    ANTIOQUIA       URRAO   \n",
       "1              Citibank     31/12/2017    ANTIOQUIA   CONCORDIA   \n",
       "2       Banco De Bogota     31/12/2017    ANTIOQUIA      ITAGUI   \n",
       "3           Coopcentral     31/12/2017    ANTIOQUIA    MEDELLIN   \n",
       "4         Bancamía S.A.     31/12/2017    ANTIOQUIA  SAN CARLOS   \n",
       "\n",
       "                                 TIPO  NRO CORRESPONSALES PROPIOS  \\\n",
       "0  TRANS Y TRAMITES EN CORRESPONSALES                           0   \n",
       "1  TRANS Y TRAMITES EN CORRESPONSALES                           0   \n",
       "2                 CREDITO DE VIVIENDA                           0   \n",
       "3                        MICROCREDITO                           0   \n",
       "4                      CORRESPONSALES                           0   \n",
       "\n",
       "   NRO CORRESPONSALES TERCERIZADOS  NRO CORRESPONSALES ACTIVOS  \\\n",
       "0                                0                           0   \n",
       "1                                0                           0   \n",
       "2                                0                           0   \n",
       "3                                0                           0   \n",
       "4                                1                           1   \n",
       "\n",
       "   NRO CORRESPONSALES  NRO DEPOSITOS  ...  \\\n",
       "0                   0              0  ...   \n",
       "1                   0             42  ...   \n",
       "2                   0              0  ...   \n",
       "3                   0              0  ...   \n",
       "4                   1              0  ...   \n",
       "\n",
       "   NRO MICROCREDITO> 10SMMLV HASTA 25SMMLV  \\\n",
       "0                                        0   \n",
       "1                                        0   \n",
       "2                                        0   \n",
       "3                                        0   \n",
       "4                                        0   \n",
       "\n",
       "   MONTO MICROCREDI> 10SMMLV HASTA 25SMMLV  NRO MICROCREDITO MUJERES  \\\n",
       "0                                      0.0                         0   \n",
       "1                                      0.0                         0   \n",
       "2                                      0.0                         0   \n",
       "3                                      0.0                         0   \n",
       "4                                      0.0                         0   \n",
       "\n",
       "   MONTO MICROCREDITO MUJERES  NRO MICROCREDITO HOMBRES  \\\n",
       "0                         0.0                         0   \n",
       "1                         0.0                         0   \n",
       "2                         0.0                         0   \n",
       "3                         0.0                         1   \n",
       "4                         0.0                         0   \n",
       "\n",
       "   MONTO MICROCREDITO HOMBRES  NRO TOTAL MICROCREDITO   \\\n",
       "0                         0.0                        0   \n",
       "1                         0.0                        0   \n",
       "2                         0.0                        0   \n",
       "3                  29000000.0                        1   \n",
       "4                         0.0                        0   \n",
       "\n",
       "   MONTO TOTAL MICROCREDITO  NRO PROD DEPOSITO NIVEL NACIONAL  \\\n",
       "0                       0.0                               0.0   \n",
       "1                       0.0                               0.0   \n",
       "2                       0.0                               0.0   \n",
       "3                29000000.0                               0.0   \n",
       "4                       0.0                               0.0   \n",
       "\n",
       "   MONTO PROD DEPOSITO NIVEL NACIONAL  \n",
       "0                                 0.0  \n",
       "1                                 0.0  \n",
       "2                                 0.0  \n",
       "3                                 0.0  \n",
       "4                                 0.0  \n",
       "\n",
       "[5 rows x 83 columns]"
      ]
     },
     "execution_count": 25,
     "metadata": {},
     "output_type": "execute_result"
    }
   ],
   "source": [
    "data_descartada.head(5)"
   ]
  },
  {
   "cell_type": "code",
   "execution_count": 26,
   "metadata": {},
   "outputs": [
    {
     "name": "stdout",
     "output_type": "stream",
     "text": [
      "Index(['NOMBRE DE LA  ENTIDAD', 'FECHA DE CORTE', 'DEPARTAMENTO', 'MUNICIPIO',\n",
      "       'TIPO', 'NRO CORRESPONSALES PROPIOS', 'NRO CORRESPONSALES TERCERIZADOS',\n",
      "       'NRO CORRESPONSALES ACTIVOS', 'NRO CORRESPONSALES', 'NRO DEPOSITOS',\n",
      "       'MONTO DEPOSITOS', 'NRO GIROS ENVIADOS ', 'MONTO GIROS ENVIADOS ',\n",
      "       'NRO GIROS RECIBIDOS', 'MONTO GIROS RECIBIDOS', 'NRO PAGOS',\n",
      "       'MONTO PAGOS', 'NRO RETIROS', 'MONTO RETIROS', 'NRO TRANSFERENCIAS',\n",
      "       'MONTO TRANSFERENCIAS', 'NRO TOTAL ', 'MONTO TOTAL',\n",
      "       'NRO CTA AHORRO HASTA 1 SMMLV', 'SALDO CTA AHORRO HASTA 1 SMMLV',\n",
      "       'NRO CTA AHORRO > 1 SMMLV HASTA 3 SMMLV',\n",
      "       'SALDO CTA AHORRO> 1 SMMLV HASTA 3 SMMLV',\n",
      "       'NRO CTA AHORRO> 3 SMMLV HASTA 5 SMMLV',\n",
      "       'SALDO CTA AHORRO> 3 SMMLV HASTA 5 SMMLV', 'NRO CTA AHORRO ACTIVAS',\n",
      "       'SALDO CTA AHORRO ACTIVAS', 'NRO CTA AHORRO MUJERES',\n",
      "       'SALDO CTA AHORRO MUJERES', 'NRO CTA AHORRO HOMBRES',\n",
      "       'SALDO CTA AHORRO HOMBRES', 'NRO TOTAL CTA AHORROS',\n",
      "       'SALDO TOTAL CTA AHORROS', 'NRO CTA AHORRO ELECTRONICAS ACTIVAS',\n",
      "       'SALDO CTA AHORRO ELECTRONICAS ACTIVAS',\n",
      "       'NRO CTA AHORRO ELECTRONICAS MUJERES',\n",
      "       'SALDO CTA AHORRO ELECTRONICAS MUJERES',\n",
      "       'NRO CTA AHORRO ELECTRONICAS HOMBRES',\n",
      "       'SALDO CTA AHORRO ELECTRONICAS HOMBRES',\n",
      "       'NRO TOTAL CTA AHORROS ELECTRONICAS ',\n",
      "       'SALDO TOTAL CTA AHORROS ELECTRONICAS ', 'NRO CREDITO CONSUMO MUJERES',\n",
      "       'MONTO CREDITO CONSUMO MUJERES', 'NRO CREDITO CONSUMO HOMBRES',\n",
      "       'MONTO CREDITO CONSUMO  HOMBRES', 'NRO TOTAL CREDITO CONSUMO',\n",
      "       'MONTO TOTAL CREDITO CONSUMO', 'NRO CRED CONS BAJO MONTO MUJERES',\n",
      "       'MONTO CRED CONS BAJO MONTO MUJERES',\n",
      "       'NRO CRED CONS BAJO MONTO HOMBRES',\n",
      "       'MONTO CRED CONS BAJO MONTO HOMBRES', 'NRO TOTAL CRED CONS BAJO MONTO',\n",
      "       'MONTO TOTAL CRED CONS BAJO MONTO', 'NRO CREDITO VIVIENDA MUJERES',\n",
      "       'MONTO CREDITO VIVIENDA MUJERES', 'NRO CREDITO VIVIENDA HOMBRES',\n",
      "       'MONTO CREDITO VIVIENDA HOMBRES', 'NRO TOTAL CREDITO VIVIENDA',\n",
      "       'MONTO TOTAL CREDITO VIVIENDA', 'NRO MICROCREDITO HASTA 1 SMMLV',\n",
      "       'MONTO MICROCREDITO HASTA 1 SMMLV',\n",
      "       'NRO MICROCREDITO > 1 SMMLV HASTA 2 SMMLV',\n",
      "       'MONTO MICROCREDITO> 1SMMLV HASTA 2SMMLV',\n",
      "       'NRO MICROCREDITO> 2 SMMLV HASTA 3 SMMLV',\n",
      "       'MONTO MICROCREDITO> 2SMMLV HASTA 3SMMLV',\n",
      "       'NRO MICROCREDITO> 3 SMMLV HASTA 4 SMMLV',\n",
      "       'MONTO MICROCREDITO> 3SMMLV HASTA 4SMMLV',\n",
      "       'NRO MICROCREDITO> 4 SMMLV HASTA 10 SMMLV',\n",
      "       'MONTO MICROCREDITO> 4SMMLV HASTA 10SMML',\n",
      "       'NRO MICROCREDITO> 10SMMLV HASTA 25SMMLV',\n",
      "       'MONTO MICROCREDI> 10SMMLV HASTA 25SMMLV', 'NRO MICROCREDITO MUJERES',\n",
      "       'MONTO MICROCREDITO MUJERES', 'NRO MICROCREDITO HOMBRES',\n",
      "       'MONTO MICROCREDITO HOMBRES', 'NRO TOTAL MICROCREDITO ',\n",
      "       'MONTO TOTAL MICROCREDITO', 'NRO PROD DEPOSITO NIVEL NACIONAL',\n",
      "       'MONTO PROD DEPOSITO NIVEL NACIONAL'],\n",
      "      dtype='object')\n"
     ]
    }
   ],
   "source": [
    "print(data_descartada.columns)\n"
   ]
  },
  {
   "cell_type": "code",
   "execution_count": 27,
   "metadata": {},
   "outputs": [
    {
     "data": {
      "text/plain": [
       "NOMBRE DE LA  ENTIDAD                    0\n",
       "FECHA DE CORTE                           0\n",
       "DEPARTAMENTO                             0\n",
       "MUNICIPIO                                0\n",
       "TIPO                                  5132\n",
       "                                      ... \n",
       "MONTO MICROCREDITO HOMBRES               0\n",
       "NRO TOTAL MICROCREDITO                   0\n",
       "MONTO TOTAL MICROCREDITO                 0\n",
       "NRO PROD DEPOSITO NIVEL NACIONAL         0\n",
       "MONTO PROD DEPOSITO NIVEL NACIONAL       0\n",
       "Length: 83, dtype: int64"
      ]
     },
     "execution_count": 27,
     "metadata": {},
     "output_type": "execute_result"
    }
   ],
   "source": [
    "#eliminar valores faltantes en las columnas para el modelo\n",
    "\n",
    "data_descartada.isnull().sum()\n"
   ]
  },
  {
   "cell_type": "markdown",
   "metadata": {},
   "source": [
    "### Procesamiento de datos"
   ]
  },
  {
   "cell_type": "code",
   "execution_count": 28,
   "metadata": {},
   "outputs": [],
   "source": [
    "#como son bastantes los valores faltantes, lo que hare es imputarlos con la media de cada columna\n",
    "\n",
    "from sklearn.impute import SimpleImputer\n",
    "\n",
    "from sklearn.impute import SimpleImputer\n",
    "\n",
    "# Obtener columnas numéricas\n",
    "columnas_numericas = data_descartada.select_dtypes(include=[np.number]).columns\n",
    "\n",
    "# Imputar valores faltantes en columnas numéricas utilizando la media\n",
    "imputer = SimpleImputer(strategy='mean')\n",
    "data_descartada_imputada = data_descartada.copy()\n",
    "data_descartada_imputada[columnas_numericas] = imputer.fit_transform(data_descartada[columnas_numericas])\n"
   ]
  },
  {
   "cell_type": "code",
   "execution_count": 29,
   "metadata": {},
   "outputs": [],
   "source": [
    "# Obtener columnas no numéricas\n",
    "columnas_no_numericas = data_descartada.select_dtypes(exclude=[np.number]).columns\n",
    "\n",
    "# Imputar valores faltantes en columnas no numéricas utilizando la moda\n",
    "imputer = SimpleImputer(strategy='most_frequent')\n",
    "data_descartada_imputada = data_descartada.copy()\n",
    "data_descartada_imputada[columnas_no_numericas] = imputer.fit_transform(data_descartada[columnas_no_numericas])"
   ]
  },
  {
   "cell_type": "code",
   "execution_count": 30,
   "metadata": {},
   "outputs": [],
   "source": [
    "#codficacion de variables categóricas one-hot encoding\n",
    "\n",
    "###data_encoded = pd.get_dummies(data_descartada_imputada, columns=['DEPARTAMENTO', 'MUNICIPIO', 'TIPO'])\n",
    "\n",
    "#codficacion de variables categóricas label encoding\n",
    "\n",
    "from sklearn.preprocessing import LabelEncoder\n",
    "\n",
    "label_encoder = LabelEncoder()\n",
    "data_encoded = data_descartada_imputada.copy()\n",
    "data_encoded['DEPARTAMENTO'] = label_encoder.fit_transform(data_descartada_imputada['DEPARTAMENTO'])\n",
    "data_encoded['MUNICIPIO'] = label_encoder.fit_transform(data_descartada_imputada['MUNICIPIO'])\n",
    "data_encoded['TIPO'] = label_encoder.fit_transform(data_descartada_imputada['TIPO'])\n",
    "\n",
    "\n",
    "\n",
    "\n"
   ]
  },
  {
   "cell_type": "code",
   "execution_count": 31,
   "metadata": {},
   "outputs": [
    {
     "name": "stdout",
     "output_type": "stream",
     "text": [
      "DEPARTAMENTO                          0.0\n",
      "MUNICIPIO                             0.0\n",
      "TIPO                                  0.0\n",
      "NRO CORRESPONSALES PROPIOS            0.0\n",
      "NRO CORRESPONSALES TERCERIZADOS       0.0\n",
      "                                     ... \n",
      "MONTO MICROCREDITO HOMBRES            0.0\n",
      "NRO TOTAL MICROCREDITO                0.0\n",
      "MONTO TOTAL MICROCREDITO              0.0\n",
      "NRO PROD DEPOSITO NIVEL NACIONAL      0.0\n",
      "MONTO PROD DEPOSITO NIVEL NACIONAL    0.0\n",
      "Length: 81, dtype: float64\n",
      "DEPARTAMENTO                          1.0\n",
      "MUNICIPIO                             1.0\n",
      "TIPO                                  1.0\n",
      "NRO CORRESPONSALES PROPIOS            1.0\n",
      "NRO CORRESPONSALES TERCERIZADOS       1.0\n",
      "                                     ... \n",
      "MONTO MICROCREDITO HOMBRES            1.0\n",
      "NRO TOTAL MICROCREDITO                1.0\n",
      "MONTO TOTAL MICROCREDITO              1.0\n",
      "NRO PROD DEPOSITO NIVEL NACIONAL      1.0\n",
      "MONTO PROD DEPOSITO NIVEL NACIONAL    1.0\n",
      "Length: 81, dtype: float64\n"
     ]
    }
   ],
   "source": [
    "### normalización o estandarización de características\n",
    " \n",
    "numerical_columns = data_encoded.select_dtypes(include=np.number).columns.tolist()\n",
    "\n",
    "from sklearn.preprocessing import MinMaxScaler\n",
    "\n",
    "scaler = MinMaxScaler()\n",
    "data_normalized = data_encoded.copy()\n",
    "data_normalized[numerical_columns] = scaler.fit_transform(data_encoded[numerical_columns])\n",
    "\n",
    "print(data_normalized[numerical_columns].min())\n",
    "print(data_normalized[numerical_columns].max())\n",
    "\n",
    "\n",
    "#os valores deberían estar dentro del rango [0, 1]. Si estás utilizando Z-Score Scaling, los valores deberían tener una media cercana a 0 y una desviación estándar cercana a 1.\n",
    "\n"
   ]
  },
  {
   "cell_type": "markdown",
   "metadata": {},
   "source": [
    "### Entrenamiento del modelo de machine learning\n",
    "\n",
    "\n",
    "El objetivo general es evaluar la disponibilidad y utilización de productos financieros en diferentes segmentos de la población en Colombia. Basándonos en esto, podemos plantear posibles objetivos específicos y variables a predecir:\n",
    "\n",
    "Objetivo: Predecir el número de depósitos realizados en función de otras características.\n",
    "\n",
    "Variable a predecir: 'NRO DEPOSITOS'"
   ]
  },
  {
   "cell_type": "code",
   "execution_count": 32,
   "metadata": {},
   "outputs": [],
   "source": [
    "#division de datos en entrenamiento y de prueba\n",
    "\n",
    "from sklearn.model_selection import train_test_split\n",
    "\n",
    "# Dividir los datos en características (X) y etiquetas (y)\n",
    "X = data_normalized.drop('NRO DEPOSITOS', axis=1)\n",
    "y = data_normalized['NRO DEPOSITOS']\n",
    "\n",
    "# Dividir los datos en conjuntos de entrenamiento y prueba\n",
    "X_train, X_test, y_train, y_test = train_test_split(X, y, test_size=0.2, random_state=42)\n"
   ]
  },
  {
   "cell_type": "code",
   "execution_count": 33,
   "metadata": {},
   "outputs": [
    {
     "name": "stdout",
     "output_type": "stream",
     "text": [
      "Mean Squared Error (Linear Regression): 7.626245143225783\n",
      "R-squared (Linear Regression): 0.9999916702432035\n"
     ]
    }
   ],
   "source": [
    "import pandas as pd\n",
    "import statsmodels.api as sm\n",
    "from sklearn.model_selection import train_test_split\n",
    "from sklearn.preprocessing import LabelEncoder\n",
    "from sklearn.metrics import mean_squared_error, r2_score\n",
    "\n",
    "# Tu código para cargar los datos aquí...\n",
    "\n",
    "# Convertir las columnas categóricas a tipo 'object'\n",
    "categorical_columns = ['NOMBRE DE LA  ENTIDAD', 'FECHA DE CORTE', 'DEPARTAMENTO', 'MUNICIPIO', 'TIPO']\n",
    "data_descartada[categorical_columns] = data_descartada[categorical_columns].astype(str)\n",
    "\n",
    "# Utilizar LabelEncoder para codificar las variables categóricas como números enteros\n",
    "label_encoder = LabelEncoder()\n",
    "for column in categorical_columns:\n",
    "    data_descartada[column] = label_encoder.fit_transform(data_descartada[column])\n",
    "\n",
    "# Dividir los datos en conjuntos de entrenamiento y prueba\n",
    "X_train, X_test, y_train, y_test = train_test_split(data_descartada.drop('NRO TOTAL MICROCREDITO ', axis=1),\n",
    "                                                    data_descartada['NRO TOTAL MICROCREDITO '],\n",
    "                                                    test_size=0.2, random_state=42)\n",
    "\n",
    "# Agregar una columna de unos para el intercepto del modelo lineal\n",
    "X_train = sm.add_constant(X_train)\n",
    "X_test = sm.add_constant(X_test)\n",
    "\n",
    "# Crear el objeto de modelo de regresión lineal\n",
    "model = sm.OLS(y_train, X_train)\n",
    "\n",
    "# Entrenar el modelo utilizando los datos de entrenamiento\n",
    "result = model.fit()\n",
    "\n",
    "# Realizar predicciones en los datos de prueba\n",
    "y_pred = result.predict(X_test)\n",
    "\n",
    "# Calcular el Mean Squared Error y R-squared en el conjunto de prueba\n",
    "mse = mean_squared_error(y_test, y_pred)\n",
    "r2 = r2_score(y_test, y_pred)\n",
    "\n",
    "print(\"Mean Squared Error (Linear Regression):\", mse)\n",
    "print(\"R-squared (Linear Regression):\", r2)\n"
   ]
  },
  {
   "cell_type": "markdown",
   "metadata": {},
   "source": [
    "Hemos codificado las variables categóricas utilizando la técnica de label encoding, y hemos entrenado un modelo de regresión lineal para predecir el número de depósitos realizados.\n",
    "\n",
    "El proceso de encoding nos permite convertir variables categóricas en representaciones numéricas adecuadas para el entrenamiento del modelo. El feature engineering nos permite crear nuevas características o transformar las existentes para mejorar el rendimiento del modelo. Y finalmente, el entrenamiento del modelo nos permite aprender los patrones en los datos y realizar predicciones.\n",
    "\n",
    "Basado en los resultados obtenidos, podemos concluir lo siguiente:\n",
    "\n",
    "Error cuadrático medio (MSE): El MSE obtenido es de 0.002055846154653805. El MSE representa la media de los errores al cuadrado entre las predicciones del modelo y los valores reales. Un MSE bajo indica que el modelo tiene un ajuste muy cercano a los datos reales, lo cual es positivo. En este caso, el valor del MSE es muy bajo, lo que sugiere que las predicciones del modelo tienen una diferencia mínima con los valores reales.\n",
    "\n",
    "Coeficiente de determinación (R-squared): El R-squared obtenido es de 0.9999999999999262. El R-squared es una medida de qué tan bien el modelo se ajusta a los datos observados y varía entre 0 y 1. Un valor de R-squared cercano a 1 indica que el modelo explica la variabilidad de los datos en gran medida. En este caso, el valor extremadamente alto de R-squared sugiere que el modelo se ajusta muy bien a los datos y es capaz de explicar prácticamente toda la variabilidad.\n",
    "\n",
    "En resumen, los resultados obtenidos indican que el modelo de regresión lineal es altamente preciso en la predicción del número de depósitos realizados. El bajo MSE y el alto R-squared respaldan esta conclusión."
   ]
  },
  {
   "cell_type": "markdown",
   "metadata": {},
   "source": [
    "#### Evaluando modelos de Machine Learning\n"
   ]
  },
  {
   "cell_type": "markdown",
   "metadata": {},
   "source": [
    "Teniendo en cuenta los resultados y el modelo de predicción, tome la desición de ir por la predición de ¿cual seria el uso de microcreditos o de solicitudes de los mismos en los siguientes seis meses, que me sirva para identificar si puedo o no lanzar un producto que ayude a incentivar o a crecer el uso o la solicitudes de creditos microcreditos?\n"
   ]
  },
  {
   "cell_type": "code",
   "execution_count": 34,
   "metadata": {},
   "outputs": [
    {
     "name": "stdout",
     "output_type": "stream",
     "text": [
      "   NOMBRE DE LA  ENTIDAD  DEPARTAMENTO  MUNICIPIO  TIPO  \\\n",
      "0                      8             2       1104     8   \n",
      "1                     24             2        228     8   \n",
      "2                      9             2        463     3   \n",
      "3                     29             2        574     6   \n",
      "4                      4             2        835     0   \n",
      "\n",
      "   NRO CORRESPONSALES PROPIOS  NRO CORRESPONSALES TERCERIZADOS  \\\n",
      "0                           0                                0   \n",
      "1                           0                                0   \n",
      "2                           0                                0   \n",
      "3                           0                                0   \n",
      "4                           0                                1   \n",
      "\n",
      "   NRO CORRESPONSALES ACTIVOS  NRO CORRESPONSALES  NRO DEPOSITOS  \\\n",
      "0                           0                   0              0   \n",
      "1                           0                   0             42   \n",
      "2                           0                   0              0   \n",
      "3                           0                   0              0   \n",
      "4                           1                   1              0   \n",
      "\n",
      "   MONTO DEPOSITOS  ...  NRO MICROCREDITO MUJERES  MONTO MICROCREDITO MUJERES  \\\n",
      "0              0.0  ...                         0                         0.0   \n",
      "1       24754374.0  ...                         0                         0.0   \n",
      "2              0.0  ...                         0                         0.0   \n",
      "3              0.0  ...                         0                         0.0   \n",
      "4              0.0  ...                         0                         0.0   \n",
      "\n",
      "   NRO MICROCREDITO HOMBRES  MONTO MICROCREDITO HOMBRES  \\\n",
      "0                         0                         0.0   \n",
      "1                         0                         0.0   \n",
      "2                         0                         0.0   \n",
      "3                         1                  29000000.0   \n",
      "4                         0                         0.0   \n",
      "\n",
      "   NRO TOTAL MICROCREDITO   MONTO TOTAL MICROCREDITO  \\\n",
      "0                        0                       0.0   \n",
      "1                        0                       0.0   \n",
      "2                        0                       0.0   \n",
      "3                        1                29000000.0   \n",
      "4                        0                       0.0   \n",
      "\n",
      "   NRO PROD DEPOSITO NIVEL NACIONAL  MONTO PROD DEPOSITO NIVEL NACIONAL  MES  \\\n",
      "0                               0.0                                 0.0    1   \n",
      "1                               0.0                                 0.0    1   \n",
      "2                               0.0                                 0.0    1   \n",
      "3                               0.0                                 0.0    1   \n",
      "4                               0.0                                 0.0    1   \n",
      "\n",
      "    AÑO  \n",
      "0  1970  \n",
      "1  1970  \n",
      "2  1970  \n",
      "3  1970  \n",
      "4  1970  \n",
      "\n",
      "[5 rows x 84 columns]\n"
     ]
    }
   ],
   "source": [
    "#Vamos a empezar con el primer paso y crear características temporales a partir de la columna \"FECHA DE CORTE\". Extraeremos el mes y el año como nuevas características en el DataFrame.\n",
    "import pandas as pd\n",
    "\n",
    "# Convertir la columna \"FECHA DE CORTE\" al formato de fecha\n",
    "data_descartada['FECHA DE CORTE'] = pd.to_datetime(data_descartada['FECHA DE CORTE'])\n",
    "\n",
    "# Crear nuevas características para el mes y el año\n",
    "data_descartada['MES'] = data_descartada['FECHA DE CORTE'].dt.month\n",
    "data_descartada['AÑO'] = data_descartada['FECHA DE CORTE'].dt.year\n",
    "\n",
    "# Eliminar la columna original \"FECHA DE CORTE\" ya que no la necesitamos más\n",
    "data_descartada.drop(columns=['FECHA DE CORTE'], inplace=True)\n",
    "\n",
    "# Mostrar las primeras filas del DataFrame para verificar los cambios\n",
    "print(data_descartada.head())"
   ]
  },
  {
   "cell_type": "code",
   "execution_count": 35,
   "metadata": {},
   "outputs": [
    {
     "name": "stdout",
     "output_type": "stream",
     "text": [
      "   NOMBRE DE LA  ENTIDAD  DEPARTAMENTO  MUNICIPIO  TIPO  \\\n",
      "0                      8             2       1104     8   \n",
      "1                     24             2        228     8   \n",
      "2                      9             2        463     3   \n",
      "3                     29             2        574     6   \n",
      "4                      4             2        835     0   \n",
      "\n",
      "   NRO CORRESPONSALES PROPIOS  NRO CORRESPONSALES TERCERIZADOS  \\\n",
      "0                           0                                0   \n",
      "1                           0                                0   \n",
      "2                           0                                0   \n",
      "3                           0                                0   \n",
      "4                           0                                1   \n",
      "\n",
      "   NRO CORRESPONSALES ACTIVOS  NRO CORRESPONSALES  NRO DEPOSITOS  \\\n",
      "0                           0                   0              0   \n",
      "1                           0                   0             42   \n",
      "2                           0                   0              0   \n",
      "3                           0                   0              0   \n",
      "4                           1                   1              0   \n",
      "\n",
      "   MONTO DEPOSITOS  ...  MONTO MICROCREDITO MUJERES  NRO MICROCREDITO HOMBRES  \\\n",
      "0              0.0  ...                         0.0                         0   \n",
      "1       24754374.0  ...                         0.0                         0   \n",
      "2              0.0  ...                         0.0                         0   \n",
      "3              0.0  ...                         0.0                         1   \n",
      "4              0.0  ...                         0.0                         0   \n",
      "\n",
      "   MONTO MICROCREDITO HOMBRES  NRO TOTAL MICROCREDITO   \\\n",
      "0                         0.0                        0   \n",
      "1                         0.0                        0   \n",
      "2                         0.0                        0   \n",
      "3                  29000000.0                        1   \n",
      "4                         0.0                        0   \n",
      "\n",
      "   MONTO TOTAL MICROCREDITO  NRO PROD DEPOSITO NIVEL NACIONAL  \\\n",
      "0                       0.0                               0.0   \n",
      "1                       0.0                               0.0   \n",
      "2                       0.0                               0.0   \n",
      "3                29000000.0                               0.0   \n",
      "4                       0.0                               0.0   \n",
      "\n",
      "   MONTO PROD DEPOSITO NIVEL NACIONAL  MES   AÑO  TOTAL CORRESPONSALES ACTIVOS  \n",
      "0                                 0.0    1  1970                             0  \n",
      "1                                 0.0    1  1970                             0  \n",
      "2                                 0.0    1  1970                             0  \n",
      "3                                 0.0    1  1970                             0  \n",
      "4                                 0.0    1  1970                             1  \n",
      "\n",
      "[5 rows x 85 columns]\n"
     ]
    }
   ],
   "source": [
    "#Crearemos una nueva característica que represente el total de corresponsales activos sumando las columnas \"NRO CORRESPONSALES PROPIOS\" y \"NRO CORRESPONSALES TERCERIZADOS\". Esto nos daría una medida más completa del alcance de los corresponsales en general.\n",
    "\n",
    "# Crear una nueva característica que represente el total de corresponsales activos\n",
    "data_descartada['TOTAL CORRESPONSALES ACTIVOS'] = data_descartada['NRO CORRESPONSALES PROPIOS'] + data_descartada['NRO CORRESPONSALES TERCERIZADOS']\n",
    "\n",
    "# Mostrar las primeras filas del DataFrame para verificar los cambios\n",
    "print(data_descartada.head())\n"
   ]
  },
  {
   "cell_type": "code",
   "execution_count": 36,
   "metadata": {},
   "outputs": [
    {
     "name": "stdout",
     "output_type": "stream",
     "text": [
      "   NOMBRE DE LA  ENTIDAD  DEPARTAMENTO  MUNICIPIO  NRO CORRESPONSALES PROPIOS  \\\n",
      "0                      8             2       1104                           0   \n",
      "1                     24             2        228                           0   \n",
      "2                      9             2        463                           0   \n",
      "3                     29             2        574                           0   \n",
      "4                      4             2        835                           0   \n",
      "\n",
      "   NRO CORRESPONSALES TERCERIZADOS  NRO CORRESPONSALES ACTIVOS  \\\n",
      "0                                0                           0   \n",
      "1                                0                           0   \n",
      "2                                0                           0   \n",
      "3                                0                           0   \n",
      "4                                1                           1   \n",
      "\n",
      "   NRO CORRESPONSALES  NRO DEPOSITOS  MONTO DEPOSITOS  NRO GIROS ENVIADOS   \\\n",
      "0                   0              0              0.0                    0   \n",
      "1                   0             42       24754374.0                    0   \n",
      "2                   0              0              0.0                    0   \n",
      "3                   0              0              0.0                    0   \n",
      "4                   1              0              0.0                    0   \n",
      "\n",
      "   ...  TOTAL CORRESPONSALES ACTIVOS  TIPO_1  TIPO_2  TIPO_3  TIPO_4  TIPO_5  \\\n",
      "0  ...                             0   False   False   False   False   False   \n",
      "1  ...                             0   False   False   False   False   False   \n",
      "2  ...                             0   False   False    True   False   False   \n",
      "3  ...                             0   False   False   False   False   False   \n",
      "4  ...                             1   False   False   False   False   False   \n",
      "\n",
      "   TIPO_6  TIPO_7  TIPO_8  TIPO_9  \n",
      "0   False   False    True   False  \n",
      "1   False   False    True   False  \n",
      "2   False   False   False   False  \n",
      "3    True   False   False   False  \n",
      "4   False   False   False   False  \n",
      "\n",
      "[5 rows x 93 columns]\n"
     ]
    }
   ],
   "source": [
    "#One-Hot Encoding\n",
    "\n",
    "# Aplicar One-Hot Encoding a la columna 'TIPO'\n",
    "data_descartada = pd.get_dummies(data_descartada, columns=['TIPO'], drop_first=True)\n",
    "\n",
    "# Mostrar las primeras filas del DataFrame para verificar los cambios\n",
    "print(data_descartada.head())\n"
   ]
  },
  {
   "cell_type": "code",
   "execution_count": 37,
   "metadata": {},
   "outputs": [
    {
     "name": "stdout",
     "output_type": "stream",
     "text": [
      "   NOMBRE DE LA  ENTIDAD  DEPARTAMENTO  MUNICIPIO  NRO CORRESPONSALES PROPIOS  \\\n",
      "0                      8             2       1104                           0   \n",
      "1                     24             2        228                           0   \n",
      "2                      9             2        463                           0   \n",
      "3                     29             2        574                           0   \n",
      "4                      4             2        835                           0   \n",
      "\n",
      "   NRO CORRESPONSALES TERCERIZADOS  NRO CORRESPONSALES ACTIVOS  \\\n",
      "0                                0                           0   \n",
      "1                                0                           0   \n",
      "2                                0                           0   \n",
      "3                                0                           0   \n",
      "4                                1                           1   \n",
      "\n",
      "   NRO CORRESPONSALES  NRO DEPOSITOS  MONTO DEPOSITOS  NRO GIROS ENVIADOS   \\\n",
      "0                   0              0              0.0                    0   \n",
      "1                   0             42       24754374.0                    0   \n",
      "2                   0              0              0.0                    0   \n",
      "3                   0              0              0.0                    0   \n",
      "4                   1              0              0.0                    0   \n",
      "\n",
      "   ...  TIPO_1  TIPO_2  TIPO_3  TIPO_4  TIPO_5  TIPO_6  TIPO_7  TIPO_8  \\\n",
      "0  ...   False   False   False   False   False   False   False    True   \n",
      "1  ...   False   False   False   False   False   False   False    True   \n",
      "2  ...   False   False    True   False   False   False   False   False   \n",
      "3  ...   False   False   False   False   False    True   False   False   \n",
      "4  ...   False   False   False   False   False   False   False   False   \n",
      "\n",
      "   TIPO_9  TOTAL TRANSACCIONES  \n",
      "0   False                 55.0  \n",
      "1   False                145.0  \n",
      "2   False                  0.0  \n",
      "3   False                  0.0  \n",
      "4   False                  0.0  \n",
      "\n",
      "[5 rows x 94 columns]\n"
     ]
    }
   ],
   "source": [
    "#Interacciones entre características\n",
    "\n",
    "# Crear una nueva característica que represente el total de transacciones realizadas\n",
    "data_descartada['TOTAL TRANSACCIONES'] = data_descartada['NRO DEPOSITOS'] + data_descartada['NRO GIROS ENVIADOS '] + data_descartada['NRO GIROS RECIBIDOS'] + data_descartada['NRO PAGOS'] + data_descartada['NRO RETIROS'] + data_descartada['NRO TRANSFERENCIAS']\n",
    "\n",
    "# Mostrar las primeras filas del DataFrame para verificar los cambios\n",
    "print(data_descartada.head())\n"
   ]
  },
  {
   "cell_type": "code",
   "execution_count": 38,
   "metadata": {},
   "outputs": [
    {
     "name": "stdout",
     "output_type": "stream",
     "text": [
      "   NOMBRE DE LA  ENTIDAD  DEPARTAMENTO  MUNICIPIO  NRO CORRESPONSALES PROPIOS  \\\n",
      "0               0.153846       0.04878   0.946827                         0.0   \n",
      "1               0.461538       0.04878   0.195540                         0.0   \n",
      "2               0.173077       0.04878   0.397084                         0.0   \n",
      "3               0.557692       0.04878   0.492281                         0.0   \n",
      "4               0.076923       0.04878   0.716123                         0.0   \n",
      "\n",
      "   NRO CORRESPONSALES TERCERIZADOS  NRO CORRESPONSALES ACTIVOS  \\\n",
      "0                         0.000000                    0.000000   \n",
      "1                         0.000000                    0.000000   \n",
      "2                         0.000000                    0.000000   \n",
      "3                         0.000000                    0.000000   \n",
      "4                         0.000028                    0.000032   \n",
      "\n",
      "   NRO CORRESPONSALES  NRO DEPOSITOS  MONTO DEPOSITOS  NRO GIROS ENVIADOS   \\\n",
      "0            0.000000       0.000000         0.000000                  0.0   \n",
      "1            0.000000       0.000001         0.000001                  0.0   \n",
      "2            0.000000       0.000000         0.000000                  0.0   \n",
      "3            0.000000       0.000000         0.000000                  0.0   \n",
      "4            0.000028       0.000000         0.000000                  0.0   \n",
      "\n",
      "   ...  TIPO_1  TIPO_2  TIPO_3  TIPO_4  TIPO_5  TIPO_6  TIPO_7  TIPO_8  \\\n",
      "0  ...   False   False   False   False   False   False   False    True   \n",
      "1  ...   False   False   False   False   False   False   False    True   \n",
      "2  ...   False   False    True   False   False   False   False   False   \n",
      "3  ...   False   False   False   False   False    True   False   False   \n",
      "4  ...   False   False   False   False   False   False   False   False   \n",
      "\n",
      "   TIPO_9  TOTAL TRANSACCIONES  \n",
      "0   False         5.707405e-07  \n",
      "1   False         1.504679e-06  \n",
      "2   False         0.000000e+00  \n",
      "3   False         0.000000e+00  \n",
      "4   False         0.000000e+00  \n",
      "\n",
      "[5 rows x 94 columns]\n"
     ]
    }
   ],
   "source": [
    "# Normalización\n",
    "\n",
    "from sklearn.preprocessing import MinMaxScaler\n",
    "\n",
    "# Inicializar el scaler\n",
    "scaler = MinMaxScaler()\n",
    "\n",
    "# Seleccionar solo las columnas numéricas que queremos normalizar\n",
    "numeric_columns = data_descartada.select_dtypes(include=['int64', 'float64']).columns\n",
    "\n",
    "# Aplicar la normalización a las columnas numéricas\n",
    "data_descartada[numeric_columns] = scaler.fit_transform(data_descartada[numeric_columns])\n",
    "\n",
    "# Mostrar las primeras filas del DataFrame para verificar los cambios\n",
    "print(data_descartada.head())\n"
   ]
  },
  {
   "cell_type": "markdown",
   "metadata": {},
   "source": [
    "##### He realizado la segunda ronda de Feature Engineering y tenemos las características adicionales, interacciones entre características y todo está normalizado, podemos continuar con el entrenamiento del modelo para predecir el uso o la solicitud de microcréditos en los próximos seis meses.\n",
    "\n",
    "Para ellos voy a seguir con los siguientes pasos:\n",
    "\n",
    "1. Definir las características (X) y la variable objetivo (y).\n",
    "2. Dividir el conjunto de datos en datos de entrenamiento y datos de prueba.\n",
    "3. Seleccionar un modelo de Machine Learning adecuado.\n",
    "4. Entrenar el modelo utilizando los datos de entrenamiento.\n",
    "5. Evaluar el rendimiento del modelo utilizando los datos de prueba."
   ]
  },
  {
   "cell_type": "code",
   "execution_count": 39,
   "metadata": {},
   "outputs": [],
   "source": [
    "#separaremos el conjunto de datos en características (X) y la variable objetivo (y). Las características serán todas las columnas del DataFrame \"data_descartada\" excepto \"NRO MICROCREDITO > 1 SMMLV HASTA 2 SMMLV\". La variable objetivo será la columna \"NRO MICROCREDITO > 1 SMMLV HASTA 2 SMMLV\".\n",
    "\n",
    "import pandas as pd\n",
    "\n",
    "# Definir las características (X) y la variable objetivo (y)\n",
    "X = data_descartada.drop(\"NRO MICROCREDITO > 1 SMMLV HASTA 2 SMMLV\", axis=1)\n",
    "y = data_descartada[\"NRO MICROCREDITO > 1 SMMLV HASTA 2 SMMLV\"]\n"
   ]
  },
  {
   "cell_type": "code",
   "execution_count": 40,
   "metadata": {},
   "outputs": [],
   "source": [
    "# Vamos a dividir el conjunto de datos en datos de entrenamiento y datos de prueba para evaluar el rendimiento del modelo. Utilizaremos el 80% de los datos para entrenar el modelo y el 20% para probarlo.\n",
    "from sklearn.model_selection import train_test_split\n",
    "\n",
    "# Dividir el conjunto de datos en entrenamiento y prueba (80% - 20%)\n",
    "X_train, X_test, y_train, y_test = train_test_split(X, y, test_size=0.2, random_state=42)\n"
   ]
  },
  {
   "cell_type": "code",
   "execution_count": 41,
   "metadata": {},
   "outputs": [
    {
     "data": {
      "text/html": [
       "<style>#sk-container-id-1 {color: black;}#sk-container-id-1 pre{padding: 0;}#sk-container-id-1 div.sk-toggleable {background-color: white;}#sk-container-id-1 label.sk-toggleable__label {cursor: pointer;display: block;width: 100%;margin-bottom: 0;padding: 0.3em;box-sizing: border-box;text-align: center;}#sk-container-id-1 label.sk-toggleable__label-arrow:before {content: \"▸\";float: left;margin-right: 0.25em;color: #696969;}#sk-container-id-1 label.sk-toggleable__label-arrow:hover:before {color: black;}#sk-container-id-1 div.sk-estimator:hover label.sk-toggleable__label-arrow:before {color: black;}#sk-container-id-1 div.sk-toggleable__content {max-height: 0;max-width: 0;overflow: hidden;text-align: left;background-color: #f0f8ff;}#sk-container-id-1 div.sk-toggleable__content pre {margin: 0.2em;color: black;border-radius: 0.25em;background-color: #f0f8ff;}#sk-container-id-1 input.sk-toggleable__control:checked~div.sk-toggleable__content {max-height: 200px;max-width: 100%;overflow: auto;}#sk-container-id-1 input.sk-toggleable__control:checked~label.sk-toggleable__label-arrow:before {content: \"▾\";}#sk-container-id-1 div.sk-estimator input.sk-toggleable__control:checked~label.sk-toggleable__label {background-color: #d4ebff;}#sk-container-id-1 div.sk-label input.sk-toggleable__control:checked~label.sk-toggleable__label {background-color: #d4ebff;}#sk-container-id-1 input.sk-hidden--visually {border: 0;clip: rect(1px 1px 1px 1px);clip: rect(1px, 1px, 1px, 1px);height: 1px;margin: -1px;overflow: hidden;padding: 0;position: absolute;width: 1px;}#sk-container-id-1 div.sk-estimator {font-family: monospace;background-color: #f0f8ff;border: 1px dotted black;border-radius: 0.25em;box-sizing: border-box;margin-bottom: 0.5em;}#sk-container-id-1 div.sk-estimator:hover {background-color: #d4ebff;}#sk-container-id-1 div.sk-parallel-item::after {content: \"\";width: 100%;border-bottom: 1px solid gray;flex-grow: 1;}#sk-container-id-1 div.sk-label:hover label.sk-toggleable__label {background-color: #d4ebff;}#sk-container-id-1 div.sk-serial::before {content: \"\";position: absolute;border-left: 1px solid gray;box-sizing: border-box;top: 0;bottom: 0;left: 50%;z-index: 0;}#sk-container-id-1 div.sk-serial {display: flex;flex-direction: column;align-items: center;background-color: white;padding-right: 0.2em;padding-left: 0.2em;position: relative;}#sk-container-id-1 div.sk-item {position: relative;z-index: 1;}#sk-container-id-1 div.sk-parallel {display: flex;align-items: stretch;justify-content: center;background-color: white;position: relative;}#sk-container-id-1 div.sk-item::before, #sk-container-id-1 div.sk-parallel-item::before {content: \"\";position: absolute;border-left: 1px solid gray;box-sizing: border-box;top: 0;bottom: 0;left: 50%;z-index: -1;}#sk-container-id-1 div.sk-parallel-item {display: flex;flex-direction: column;z-index: 1;position: relative;background-color: white;}#sk-container-id-1 div.sk-parallel-item:first-child::after {align-self: flex-end;width: 50%;}#sk-container-id-1 div.sk-parallel-item:last-child::after {align-self: flex-start;width: 50%;}#sk-container-id-1 div.sk-parallel-item:only-child::after {width: 0;}#sk-container-id-1 div.sk-dashed-wrapped {border: 1px dashed gray;margin: 0 0.4em 0.5em 0.4em;box-sizing: border-box;padding-bottom: 0.4em;background-color: white;}#sk-container-id-1 div.sk-label label {font-family: monospace;font-weight: bold;display: inline-block;line-height: 1.2em;}#sk-container-id-1 div.sk-label-container {text-align: center;}#sk-container-id-1 div.sk-container {/* jupyter's `normalize.less` sets `[hidden] { display: none; }` but bootstrap.min.css set `[hidden] { display: none !important; }` so we also need the `!important` here to be able to override the default hidden behavior on the sphinx rendered scikit-learn.org. See: https://github.com/scikit-learn/scikit-learn/issues/21755 */display: inline-block !important;position: relative;}#sk-container-id-1 div.sk-text-repr-fallback {display: none;}</style><div id=\"sk-container-id-1\" class=\"sk-top-container\"><div class=\"sk-text-repr-fallback\"><pre>LinearRegression()</pre><b>In a Jupyter environment, please rerun this cell to show the HTML representation or trust the notebook. <br />On GitHub, the HTML representation is unable to render, please try loading this page with nbviewer.org.</b></div><div class=\"sk-container\" hidden><div class=\"sk-item\"><div class=\"sk-estimator sk-toggleable\"><input class=\"sk-toggleable__control sk-hidden--visually\" id=\"sk-estimator-id-1\" type=\"checkbox\" checked><label for=\"sk-estimator-id-1\" class=\"sk-toggleable__label sk-toggleable__label-arrow\">LinearRegression</label><div class=\"sk-toggleable__content\"><pre>LinearRegression()</pre></div></div></div></div></div>"
      ],
      "text/plain": [
       "LinearRegression()"
      ]
     },
     "execution_count": 41,
     "metadata": {},
     "output_type": "execute_result"
    }
   ],
   "source": [
    "# Modelo de Machine Learning: modelo de regresión lineal\n",
    "\n",
    "# 'NRO MICROCREDITO > 1 SMMLV HASTA 2 SMMLV' es la columna que deseas predecir.\n",
    "\n",
    "# Codificación One-Hot para variables categóricas\n",
    "data_encoded = pd.get_dummies(data_descartada)\n",
    "\n",
    "# Definir las características (X) y la variable objetivo (y)\n",
    "X = data_encoded.drop('NRO MICROCREDITO > 1 SMMLV HASTA 2 SMMLV', axis=1)\n",
    "y = data_encoded['NRO MICROCREDITO > 1 SMMLV HASTA 2 SMMLV']\n",
    "\n",
    "# Continuar con el proceso de entrenar el modelo utilizando las características 'X' y la variable objetivo 'y'.\n",
    "# Puedes usar el modelo de regresión lineal como antes:\n",
    "from sklearn.linear_model import LinearRegression\n",
    "\n",
    "# Crear el objeto de modelo de regresión lineal\n",
    "model = LinearRegression()\n",
    "\n",
    "# Entrenar el modelo utilizando los datos de entrenamiento\n",
    "model.fit(X, y)\n",
    "\n",
    "\n",
    "\n",
    "\n"
   ]
  },
  {
   "cell_type": "code",
   "execution_count": 42,
   "metadata": {},
   "outputs": [
    {
     "name": "stdout",
     "output_type": "stream",
     "text": [
      "Nombres de los conjuntos de datos:\n",
      "Conjunto de entrenamiento de características: (482585, 93)\n",
      "Variable objetivo de entrenamiento: (482585,)\n",
      "Conjunto de prueba de características: (120647, 93)\n",
      "Variable objetivo de prueba: (120647,)\n"
     ]
    }
   ],
   "source": [
    "print(\"Nombres de los conjuntos de datos:\")\n",
    "print(\"Conjunto de entrenamiento de características:\", X_train.shape)\n",
    "print(\"Variable objetivo de entrenamiento:\", y_train.shape)\n",
    "print(\"Conjunto de prueba de características:\", X_test.shape)\n",
    "print(\"Variable objetivo de prueba:\", y_test.shape)\n",
    "\n",
    "\n"
   ]
  },
  {
   "cell_type": "code",
   "execution_count": 43,
   "metadata": {},
   "outputs": [],
   "source": [
    "# Realiza la codificación one-hot para la columna 'NOMBRE DE LA ENTIDAD'\n",
    "X_test_encoded = pd.get_dummies(X_test, columns=['NOMBRE DE LA  ENTIDAD'])\n"
   ]
  },
  {
   "cell_type": "code",
   "execution_count": 44,
   "metadata": {},
   "outputs": [
    {
     "name": "stdout",
     "output_type": "stream",
     "text": [
      "NOMBRE DE LA  ENTIDAD              float64\n",
      "DEPARTAMENTO                       float64\n",
      "MUNICIPIO                          float64\n",
      "NRO CORRESPONSALES PROPIOS         float64\n",
      "NRO CORRESPONSALES TERCERIZADOS    float64\n",
      "                                    ...   \n",
      "TIPO_6                                bool\n",
      "TIPO_7                                bool\n",
      "TIPO_8                                bool\n",
      "TIPO_9                                bool\n",
      "TOTAL TRANSACCIONES                float64\n",
      "Length: 93, dtype: object\n"
     ]
    }
   ],
   "source": [
    "print(X_test.dtypes)\n"
   ]
  },
  {
   "cell_type": "code",
   "execution_count": 45,
   "metadata": {},
   "outputs": [
    {
     "name": "stdout",
     "output_type": "stream",
     "text": [
      "[0.36538462 1.         0.05769231 0.07692308 0.19230769 0.88461538\n",
      " 0.01923077 0.17307692 0.15384615 0.92307692 0.40384615 0.09615385\n",
      " 0.11538462 0.26923077 0.25       0.75       0.46153846 0.51923077\n",
      " 0.55769231 0.57692308 0.38461538 0.28846154 0.69230769 0.78846154\n",
      " 0.80769231 0.71153846 0.82692308 0.65384615 0.34615385 0.86538462\n",
      " 0.90384615 0.21153846 0.61538462 0.96153846 0.32692308 0.23076923\n",
      " 0.53846154 0.98076923 0.42307692 0.48076923 0.63461538 0.59615385\n",
      " 0.44230769 0.5        0.13461538 0.73076923 0.03846154 0.94230769\n",
      " 0.30769231 0.76923077 0.         0.84615385 0.67307692]\n"
     ]
    }
   ],
   "source": [
    "print(X_test['NOMBRE DE LA  ENTIDAD'].unique())\n"
   ]
  },
  {
   "cell_type": "code",
   "execution_count": 46,
   "metadata": {},
   "outputs": [
    {
     "name": "stdout",
     "output_type": "stream",
     "text": [
      "Index(['NOMBRE DE LA  ENTIDAD', 'DEPARTAMENTO', 'MUNICIPIO',\n",
      "       'NRO CORRESPONSALES PROPIOS', 'NRO CORRESPONSALES TERCERIZADOS',\n",
      "       'NRO CORRESPONSALES ACTIVOS', 'NRO CORRESPONSALES', 'NRO DEPOSITOS',\n",
      "       'MONTO DEPOSITOS', 'NRO GIROS ENVIADOS ', 'MONTO GIROS ENVIADOS ',\n",
      "       'NRO GIROS RECIBIDOS', 'MONTO GIROS RECIBIDOS', 'NRO PAGOS',\n",
      "       'MONTO PAGOS', 'NRO RETIROS', 'MONTO RETIROS', 'NRO TRANSFERENCIAS',\n",
      "       'MONTO TRANSFERENCIAS', 'NRO TOTAL ', 'MONTO TOTAL',\n",
      "       'NRO CTA AHORRO HASTA 1 SMMLV', 'SALDO CTA AHORRO HASTA 1 SMMLV',\n",
      "       'NRO CTA AHORRO > 1 SMMLV HASTA 3 SMMLV',\n",
      "       'SALDO CTA AHORRO> 1 SMMLV HASTA 3 SMMLV',\n",
      "       'NRO CTA AHORRO> 3 SMMLV HASTA 5 SMMLV',\n",
      "       'SALDO CTA AHORRO> 3 SMMLV HASTA 5 SMMLV', 'NRO CTA AHORRO ACTIVAS',\n",
      "       'SALDO CTA AHORRO ACTIVAS', 'NRO CTA AHORRO MUJERES',\n",
      "       'SALDO CTA AHORRO MUJERES', 'NRO CTA AHORRO HOMBRES',\n",
      "       'SALDO CTA AHORRO HOMBRES', 'NRO TOTAL CTA AHORROS',\n",
      "       'SALDO TOTAL CTA AHORROS', 'NRO CTA AHORRO ELECTRONICAS ACTIVAS',\n",
      "       'SALDO CTA AHORRO ELECTRONICAS ACTIVAS',\n",
      "       'NRO CTA AHORRO ELECTRONICAS MUJERES',\n",
      "       'SALDO CTA AHORRO ELECTRONICAS MUJERES',\n",
      "       'NRO CTA AHORRO ELECTRONICAS HOMBRES',\n",
      "       'SALDO CTA AHORRO ELECTRONICAS HOMBRES',\n",
      "       'NRO TOTAL CTA AHORROS ELECTRONICAS ',\n",
      "       'SALDO TOTAL CTA AHORROS ELECTRONICAS ', 'NRO CREDITO CONSUMO MUJERES',\n",
      "       'MONTO CREDITO CONSUMO MUJERES', 'NRO CREDITO CONSUMO HOMBRES',\n",
      "       'MONTO CREDITO CONSUMO  HOMBRES', 'NRO TOTAL CREDITO CONSUMO',\n",
      "       'MONTO TOTAL CREDITO CONSUMO', 'NRO CRED CONS BAJO MONTO MUJERES',\n",
      "       'MONTO CRED CONS BAJO MONTO MUJERES',\n",
      "       'NRO CRED CONS BAJO MONTO HOMBRES',\n",
      "       'MONTO CRED CONS BAJO MONTO HOMBRES', 'NRO TOTAL CRED CONS BAJO MONTO',\n",
      "       'MONTO TOTAL CRED CONS BAJO MONTO', 'NRO CREDITO VIVIENDA MUJERES',\n",
      "       'MONTO CREDITO VIVIENDA MUJERES', 'NRO CREDITO VIVIENDA HOMBRES',\n",
      "       'MONTO CREDITO VIVIENDA HOMBRES', 'NRO TOTAL CREDITO VIVIENDA',\n",
      "       'MONTO TOTAL CREDITO VIVIENDA', 'NRO MICROCREDITO HASTA 1 SMMLV',\n",
      "       'MONTO MICROCREDITO HASTA 1 SMMLV',\n",
      "       'NRO MICROCREDITO > 1 SMMLV HASTA 2 SMMLV',\n",
      "       'MONTO MICROCREDITO> 1SMMLV HASTA 2SMMLV',\n",
      "       'NRO MICROCREDITO> 2 SMMLV HASTA 3 SMMLV',\n",
      "       'MONTO MICROCREDITO> 2SMMLV HASTA 3SMMLV',\n",
      "       'NRO MICROCREDITO> 3 SMMLV HASTA 4 SMMLV',\n",
      "       'MONTO MICROCREDITO> 3SMMLV HASTA 4SMMLV',\n",
      "       'NRO MICROCREDITO> 4 SMMLV HASTA 10 SMMLV',\n",
      "       'MONTO MICROCREDITO> 4SMMLV HASTA 10SMML',\n",
      "       'NRO MICROCREDITO> 10SMMLV HASTA 25SMMLV',\n",
      "       'MONTO MICROCREDI> 10SMMLV HASTA 25SMMLV', 'NRO MICROCREDITO MUJERES',\n",
      "       'MONTO MICROCREDITO MUJERES', 'NRO MICROCREDITO HOMBRES',\n",
      "       'MONTO MICROCREDITO HOMBRES', 'NRO TOTAL MICROCREDITO ',\n",
      "       'MONTO TOTAL MICROCREDITO', 'NRO PROD DEPOSITO NIVEL NACIONAL',\n",
      "       'MONTO PROD DEPOSITO NIVEL NACIONAL', 'MES', 'AÑO',\n",
      "       'TOTAL CORRESPONSALES ACTIVOS', 'TIPO_1', 'TIPO_2', 'TIPO_3', 'TIPO_4',\n",
      "       'TIPO_5', 'TIPO_6', 'TIPO_7', 'TIPO_8', 'TIPO_9',\n",
      "       'TOTAL TRANSACCIONES'],\n",
      "      dtype='object')\n"
     ]
    }
   ],
   "source": [
    "print(data_descartada.columns)"
   ]
  },
  {
   "cell_type": "code",
   "execution_count": 48,
   "metadata": {},
   "outputs": [
    {
     "name": "stdout",
     "output_type": "stream",
     "text": [
      "Mean Squared Error: 1.440153242680545e-08\n",
      "R-squared: 0.9992043025462128\n"
     ]
    }
   ],
   "source": [
    "import pandas as pd\n",
    "\n",
    "# Unir los conjuntos de entrenamiento y prueba para asegurarnos de que todas las categorías están presentes\n",
    "all_data = pd.concat([X_train, X_test])\n",
    "\n",
    "# Separar nuevamente los conjuntos de entrenamiento y prueba\n",
    "X_train = all_data[:len(X_train)]\n",
    "X_test = all_data[len(X_train):]\n",
    "\n",
    "\n",
    "\n",
    "# Entrenar el modelo nuevamente\n",
    "model.fit(X_train, y_train)\n",
    "\n",
    "# Hacer predicciones utilizando los datos de prueba\n",
    "y_pred = model.predict(X_test)\n",
    "\n",
    "# Calcular el error cuadrático medio (MSE)\n",
    "mse = mean_squared_error(y_test, y_pred)\n",
    "print(\"Mean Squared Error:\", mse)\n",
    "\n",
    "# Calcular el coeficiente de determinación (R-squared)\n",
    "r2 = r2_score(y_test, y_pred)\n",
    "print(\"R-squared:\", r2)\n"
   ]
  },
  {
   "cell_type": "code",
   "execution_count": 49,
   "metadata": {},
   "outputs": [
    {
     "name": "stdout",
     "output_type": "stream",
     "text": [
      "Mean Squared Error (CV): 1.667532253144185e-08\n",
      "R-squared (CV): -1.667532253144185e-08\n"
     ]
    }
   ],
   "source": [
    "### Validación cruzada\n",
    "\n",
    "from sklearn.linear_model import LinearRegression\n",
    "from sklearn.model_selection import cross_val_score\n",
    "\n",
    "# Crear el objeto de modelo de regresión lineal\n",
    "model = LinearRegression()\n",
    "\n",
    "# Realizar validación cruzada con 5 divisiones (5-fold cross-validation)\n",
    "cv_scores = cross_val_score(model, X_train, y_train, cv=5, scoring='neg_mean_squared_error')\n",
    "\n",
    "# Calcular el error cuadrático medio promedio a partir de los resultados de la validación cruzada\n",
    "mse_cv = -cv_scores.mean()\n",
    "\n",
    "# Calcular el coeficiente de determinación promedio a partir de los resultados de la validación cruzada\n",
    "r2_cv = cv_scores.mean()\n",
    "\n",
    "print(\"Mean Squared Error (CV):\", mse_cv)\n",
    "print(\"R-squared (CV):\", r2_cv)\n"
   ]
  },
  {
   "cell_type": "markdown",
   "metadata": {},
   "source": [
    "El resultado obtenido en la validación cruzada es interesante. Un error cuadrático medio (MSE) de aproximadamente 8.94e-16 y un coeficiente de determinación (R-squared) de aproximadamente -8.94e-16 parecen indicar que el modelo está sobreajustado a los datos de entrenamiento. Es decir, el modelo ha aprendido los datos de entrenamiento tan bien que está prediciendolos con precisión perfecta, lo que puede ser una señal de que está memorizando los datos en lugar de generalizar adecuadamente a nuevos datos.\n",
    "\n",
    "Tener un MSE y R-squared tan cercanos a cero podría ser un indicativo de que el modelo está sobreajustando los datos, lo que podría resultar en un mal rendimiento en datos no vistos. Por lo tanto, es importante considerar la posibilidad de que el modelo pueda estar sobreajustado."
   ]
  },
  {
   "cell_type": "code",
   "execution_count": 50,
   "metadata": {},
   "outputs": [
    {
     "name": "stdout",
     "output_type": "stream",
     "text": [
      "Mean Squared Error (CV): 1.859020020341225e-08\n",
      "R-squared (CV): 0.9994157504670683\n"
     ]
    }
   ],
   "source": [
    "# Validación cruzada con K-fold-validation\n",
    "\n",
    "from sklearn.model_selection import cross_val_predict\n",
    "from sklearn.model_selection import KFold\n",
    "from sklearn.metrics import mean_squared_error, r2_score\n",
    "import numpy as np\n",
    "\n",
    "# Crear un objeto de modelo de regresión lineal\n",
    "model = LinearRegression()\n",
    "\n",
    "# Especificar el número de folds para la validación cruzada\n",
    "k_folds = 5\n",
    "\n",
    "# Crear el objeto para la validación cruzada k-fold\n",
    "kf = KFold(n_splits=k_folds, shuffle=True, random_state=42)\n",
    "\n",
    "# Realizar la validación cruzada y obtener las predicciones\n",
    "y_pred_cv = cross_val_predict(model, X_train, y_train, cv=kf)\n",
    "\n",
    "# Calcular el error cuadrático medio (MSE) y el coeficiente de determinación (R-squared)\n",
    "mse_cv = mean_squared_error(y_train, y_pred_cv)\n",
    "r2_cv = r2_score(y_train, y_pred_cv)\n",
    "\n",
    "print(\"Mean Squared Error (CV):\", mse_cv)\n",
    "print(\"R-squared (CV):\", r2_cv)\n"
   ]
  },
  {
   "cell_type": "markdown",
   "metadata": {},
   "source": [
    "El hecho de obtener un R-cuadrado muy cercano a 1 y un error cuadrático medio muy cercano a cero en el conjunto de entrenamiento original indica que el modelo se ajusta muy bien a los datos de entrenamiento y es capaz de explicar casi toda la variabilidad de las solicitudes de microcréditos. Sin embargo, el hecho de que obtuvieras un R-cuadrado negativo y un error cuadrático medio positivo en la validación cruzada k-fold sugiere que el modelo puede no estar generalizando bien a nuevos datos.\n",
    "\n",
    "Un R-cuadrado negativo en la validación cruzada y un error cuadrático medio positivo indican que el modelo es malo en la generalización y que está sobreajustando los datos de entrenamiento. Esto significa que el modelo se ajusta demasiado a los detalles específicos de los datos de entrenamiento y no es capaz de capturar las relaciones generales que se aplican a nuevos datos.\n",
    "\n",
    "Dado que  el objetivo es utilizar el modelo para predecir el uso o las solicitudes de microcréditos en los próximos seis meses y luego lanzar un producto que incentive o fomente el uso de microcréditos, es crucial que el modelo sea capaz de generalizar bien a nuevos datos. Con el rendimiento actual del modelo en la validación cruzada, no se puede tener confianza en su capacidad para predecir de manera precisa en nuevos datos."
   ]
  },
  {
   "cell_type": "code",
   "execution_count": null,
   "metadata": {},
   "outputs": [
    {
     "name": "stdout",
     "output_type": "stream",
     "text": [
      "Index(['TIPO DE ENTIDAD', 'CODIGO DE LA  ENTIDAD', 'NOMBRE DE LA  ENTIDAD',\n",
      "       'FECHA DE CORTE', 'UNIDAD DE CAPTURA', 'DEPARTAMENTO', 'RENGLON',\n",
      "       'MUNICIPIO', 'TIPO', 'NRO CORRESPONSALES PROPIOS',\n",
      "       'NRO CORRESPONSALES TERCERIZADOS', 'NRO CORRESPONSALES ACTIVOS',\n",
      "       'NRO CORRESPONSALES', 'NRO DEPOSITOS', 'MONTO DEPOSITOS',\n",
      "       'NRO GIROS ENVIADOS ', 'MONTO GIROS ENVIADOS ', 'NRO GIROS RECIBIDOS',\n",
      "       'MONTO GIROS RECIBIDOS', 'NRO PAGOS', 'MONTO PAGOS', 'NRO RETIROS',\n",
      "       'MONTO RETIROS', 'NRO TRANSFERENCIAS', 'MONTO TRANSFERENCIAS',\n",
      "       'NRO TOTAL ', 'MONTO TOTAL', 'NRO CTA AHORRO HASTA 1 SMMLV',\n",
      "       'SALDO CTA AHORRO HASTA 1 SMMLV',\n",
      "       'NRO CTA AHORRO > 1 SMMLV HASTA 3 SMMLV',\n",
      "       'SALDO CTA AHORRO> 1 SMMLV HASTA 3 SMMLV',\n",
      "       'NRO CTA AHORRO> 3 SMMLV HASTA 5 SMMLV',\n",
      "       'SALDO CTA AHORRO> 3 SMMLV HASTA 5 SMMLV', 'NRO CTA AHORRO ACTIVAS',\n",
      "       'SALDO CTA AHORRO ACTIVAS', 'NRO CTA AHORRO MUJERES',\n",
      "       'SALDO CTA AHORRO MUJERES', 'NRO CTA AHORRO HOMBRES',\n",
      "       'SALDO CTA AHORRO HOMBRES', 'NRO TOTAL CTA AHORROS',\n",
      "       'SALDO TOTAL CTA AHORROS', 'NRO CTA AHORRO ELECTRONICAS ACTIVAS',\n",
      "       'SALDO CTA AHORRO ELECTRONICAS ACTIVAS',\n",
      "       'NRO CTA AHORRO ELECTRONICAS MUJERES',\n",
      "       'SALDO CTA AHORRO ELECTRONICAS MUJERES',\n",
      "       'NRO CTA AHORRO ELECTRONICAS HOMBRES',\n",
      "       'SALDO CTA AHORRO ELECTRONICAS HOMBRES',\n",
      "       'NRO TOTAL CTA AHORROS ELECTRONICAS ',\n",
      "       'SALDO TOTAL CTA AHORROS ELECTRONICAS ', 'NRO CREDITO CONSUMO MUJERES',\n",
      "       'MONTO CREDITO CONSUMO MUJERES', 'NRO CREDITO CONSUMO HOMBRES',\n",
      "       'MONTO CREDITO CONSUMO  HOMBRES', 'NRO TOTAL CREDITO CONSUMO',\n",
      "       'MONTO TOTAL CREDITO CONSUMO', 'NRO CRED CONS BAJO MONTO MUJERES',\n",
      "       'MONTO CRED CONS BAJO MONTO MUJERES',\n",
      "       'NRO CRED CONS BAJO MONTO HOMBRES',\n",
      "       'MONTO CRED CONS BAJO MONTO HOMBRES', 'NRO TOTAL CRED CONS BAJO MONTO',\n",
      "       'MONTO TOTAL CRED CONS BAJO MONTO', 'NRO CREDITO VIVIENDA MUJERES',\n",
      "       'MONTO CREDITO VIVIENDA MUJERES', 'NRO CREDITO VIVIENDA HOMBRES',\n",
      "       'MONTO CREDITO VIVIENDA HOMBRES', 'NRO TOTAL CREDITO VIVIENDA',\n",
      "       'MONTO TOTAL CREDITO VIVIENDA', 'NRO MICROCREDITO HASTA 1 SMMLV',\n",
      "       'MONTO MICROCREDITO HASTA 1 SMMLV',\n",
      "       'NRO MICROCREDITO > 1 SMMLV HASTA 2 SMMLV',\n",
      "       'MONTO MICROCREDITO> 1SMMLV HASTA 2SMMLV',\n",
      "       'NRO MICROCREDITO> 2 SMMLV HASTA 3 SMMLV',\n",
      "       'MONTO MICROCREDITO> 2SMMLV HASTA 3SMMLV',\n",
      "       'NRO MICROCREDITO> 3 SMMLV HASTA 4 SMMLV',\n",
      "       'MONTO MICROCREDITO> 3SMMLV HASTA 4SMMLV',\n",
      "       'NRO MICROCREDITO> 4 SMMLV HASTA 10 SMMLV',\n",
      "       'MONTO MICROCREDITO> 4SMMLV HASTA 10SMML',\n",
      "       'NRO MICROCREDITO> 10SMMLV HASTA 25SMMLV',\n",
      "       'MONTO MICROCREDI> 10SMMLV HASTA 25SMMLV', 'NRO MICROCREDITO MUJERES',\n",
      "       'MONTO MICROCREDITO MUJERES', 'NRO MICROCREDITO HOMBRES',\n",
      "       'MONTO MICROCREDITO HOMBRES', 'NRO TOTAL MICROCREDITO ',\n",
      "       'MONTO TOTAL MICROCREDITO', 'NRO PROD DEPOSITO NIVEL NACIONAL',\n",
      "       'MONTO PROD DEPOSITO NIVEL NACIONAL'],\n",
      "      dtype='object')\n"
     ]
    }
   ],
   "source": [
    "print(data_descartada.columns)"
   ]
  },
  {
   "cell_type": "markdown",
   "metadata": {},
   "source": [
    "## Ingeniería de atributos y selección de variables"
   ]
  },
  {
   "cell_type": "code",
   "execution_count": 52,
   "metadata": {},
   "outputs": [
    {
     "name": "stderr",
     "output_type": "stream",
     "text": [
      "/var/folders/mn/9rw9wv8d1cl56292knfx_0dmkn73j7/T/ipykernel_45353/266707937.py:4: UserWarning: Parsing dates in %d/%m/%Y format when dayfirst=False (the default) was specified. Pass `dayfirst=True` or specify a format to silence this warning.\n",
      "  data['FECHA DE CORTE'] = pd.to_datetime(data['FECHA DE CORTE'])\n"
     ]
    },
    {
     "name": "stdout",
     "output_type": "stream",
     "text": [
      "   TIPO DE ENTIDAD  CODIGO DE LA  ENTIDAD NOMBRE DE LA  ENTIDAD  \\\n",
      "0                1                     39      Banco Davivienda   \n",
      "1                1                      9              Citibank   \n",
      "2                1                      1       Banco De Bogota   \n",
      "3                1                     58           Coopcentral   \n",
      "4                1                     52         Bancamía S.A.   \n",
      "\n",
      "   UNIDAD DE CAPTURA DEPARTAMENTO  RENGLON   MUNICIPIO  \\\n",
      "0                  1    ANTIOQUIA      847       URRAO   \n",
      "1                  1    ANTIOQUIA      209   CONCORDIA   \n",
      "2                  1    ANTIOQUIA      360      ITAGUI   \n",
      "3                  1    ANTIOQUIA        1    MEDELLIN   \n",
      "4                  1    ANTIOQUIA      649  SAN CARLOS   \n",
      "\n",
      "                                 TIPO  NRO CORRESPONSALES PROPIOS  \\\n",
      "0  TRANS Y TRAMITES EN CORRESPONSALES                           0   \n",
      "1  TRANS Y TRAMITES EN CORRESPONSALES                           0   \n",
      "2                 CREDITO DE VIVIENDA                           0   \n",
      "3                        MICROCREDITO                           0   \n",
      "4                      CORRESPONSALES                           0   \n",
      "\n",
      "   NRO CORRESPONSALES TERCERIZADOS  ...  MONTO MICROCREDITO MUJERES  \\\n",
      "0                                0  ...                         0.0   \n",
      "1                                0  ...                         0.0   \n",
      "2                                0  ...                         0.0   \n",
      "3                                0  ...                         0.0   \n",
      "4                                1  ...                         0.0   \n",
      "\n",
      "   NRO MICROCREDITO HOMBRES  MONTO MICROCREDITO HOMBRES  \\\n",
      "0                         0                         0.0   \n",
      "1                         0                         0.0   \n",
      "2                         0                         0.0   \n",
      "3                         1                  29000000.0   \n",
      "4                         0                         0.0   \n",
      "\n",
      "   NRO TOTAL MICROCREDITO   MONTO TOTAL MICROCREDITO  \\\n",
      "0                        0                       0.0   \n",
      "1                        0                       0.0   \n",
      "2                        0                       0.0   \n",
      "3                        1                29000000.0   \n",
      "4                        0                       0.0   \n",
      "\n",
      "   NRO PROD DEPOSITO NIVEL NACIONAL  MONTO PROD DEPOSITO NIVEL NACIONAL  MES  \\\n",
      "0                               0.0                                 0.0   12   \n",
      "1                               0.0                                 0.0   12   \n",
      "2                               0.0                                 0.0   12   \n",
      "3                               0.0                                 0.0   12   \n",
      "4                               0.0                                 0.0   12   \n",
      "\n",
      "   DIA_SEMANA  ESTACION  \n",
      "0           6  Invierno  \n",
      "1           6  Invierno  \n",
      "2           6  Invierno  \n",
      "3           6  Invierno  \n",
      "4           6  Invierno  \n",
      "\n",
      "[5 rows x 89 columns]\n"
     ]
    }
   ],
   "source": [
    "import pandas as pd\n",
    "\n",
    "# Convertir 'FECHA DE CORTE' a objeto de fecha\n",
    "data['FECHA DE CORTE'] = pd.to_datetime(data['FECHA DE CORTE'])\n",
    "\n",
    "# Extraer características de tiempo\n",
    "data['MES'] = data['FECHA DE CORTE'].dt.month\n",
    "data['DIA_SEMANA'] = data['FECHA DE CORTE'].dt.dayofweek\n",
    "data['ESTACION'] = (data['FECHA DE CORTE'].dt.month % 12 + 3) // 3\n",
    "\n",
    "# Mapear los valores de estación a nombres más descriptivos\n",
    "estaciones_dict = {1: 'Invierno', 2: 'Primavera', 3: 'Verano', 4: 'Otoño'}\n",
    "data['ESTACION'] = data['ESTACION'].map(estaciones_dict)\n",
    "\n",
    "# Eliminar la columna 'FECHA DE CORTE' si ya no es necesaria\n",
    "data = data.drop('FECHA DE CORTE', axis=1)\n",
    "\n",
    "# Mostrar las primeras filas del DataFrame con las nuevas características\n",
    "print(data.head())\n"
   ]
  },
  {
   "cell_type": "code",
   "execution_count": 53,
   "metadata": {},
   "outputs": [],
   "source": [
    "# Calcular la columna \"PORCENTAJE_CUENTAS_AHORRO_ACTIVAS\"\n",
    "data_descartada['PORCENTAJE_CUENTAS_AHORRO_ACTIVAS'] = data_descartada['NRO CTA AHORRO ACTIVAS'] / data_descartada['NRO TOTAL CTA AHORROS']\n",
    "\n",
    "# Calcular la columna \"PORCENTAJE_CUENTAS_AHORRO_MUJERES\"\n",
    "data_descartada['PORCENTAJE_CUENTAS_AHORRO_MUJERES'] = data_descartada['NRO CTA AHORRO MUJERES'] / data_descartada['NRO TOTAL CTA AHORROS']\n"
   ]
  },
  {
   "cell_type": "code",
   "execution_count": 58,
   "metadata": {},
   "outputs": [],
   "source": [
    "# Imputar los valores faltantes con la media de cada columna\n",
    "from sklearn.impute import SimpleImputer\n",
    "imputer = SimpleImputer(strategy='mean')\n",
    "X = imputer.fit_transform(X)\n"
   ]
  },
  {
   "cell_type": "code",
   "execution_count": 61,
   "metadata": {},
   "outputs": [
    {
     "name": "stdout",
     "output_type": "stream",
     "text": [
      "        NRO CREDITO CONSUMO MUJERES  NRO TOTAL CREDITO CONSUMO  \\\n",
      "0                                 0                          0   \n",
      "1                                 0                          0   \n",
      "2                                 0                          0   \n",
      "3                                 0                          0   \n",
      "4                                 0                          0   \n",
      "...                             ...                        ...   \n",
      "603227                            0                          0   \n",
      "603228                            0                          0   \n",
      "603229                            0                          0   \n",
      "603230                            0                          0   \n",
      "603231                            0                          0   \n",
      "\n",
      "        PORCENTAJE_CREDITOS_CONSUMO_MUJERES  \n",
      "0                                       NaN  \n",
      "1                                       NaN  \n",
      "2                                       NaN  \n",
      "3                                       NaN  \n",
      "4                                       NaN  \n",
      "...                                     ...  \n",
      "603227                                  NaN  \n",
      "603228                                  NaN  \n",
      "603229                                  NaN  \n",
      "603230                                  NaN  \n",
      "603231                                  NaN  \n",
      "\n",
      "[603232 rows x 3 columns]\n"
     ]
    }
   ],
   "source": [
    "# Calcular el porcentaje de créditos de consumo para mujeres\n",
    "data['PORCENTAJE_CREDITOS_CONSUMO_MUJERES'] = data['NRO CREDITO CONSUMO MUJERES'] / data['NRO TOTAL CREDITO CONSUMO']\n",
    "\n",
    "# Verificar el resultado\n",
    "print(data[['NRO CREDITO CONSUMO MUJERES', 'NRO TOTAL CREDITO CONSUMO', 'PORCENTAJE_CREDITOS_CONSUMO_MUJERES']])\n",
    "\n"
   ]
  },
  {
   "cell_type": "code",
   "execution_count": 63,
   "metadata": {},
   "outputs": [
    {
     "name": "stdout",
     "output_type": "stream",
     "text": [
      "        NRO MICROCREDITO MUJERES  NRO TOTAL MICROCREDITO   \\\n",
      "0                              0                        0   \n",
      "1                              0                        0   \n",
      "2                              0                        0   \n",
      "3                              0                        1   \n",
      "4                              0                        0   \n",
      "...                          ...                      ...   \n",
      "603227                         0                        0   \n",
      "603228                         0                        0   \n",
      "603229                         0                        0   \n",
      "603230                         0                        0   \n",
      "603231                         0                        0   \n",
      "\n",
      "        PORCENTAJE_MICROCREDITO_MUJERES  \n",
      "0                                   NaN  \n",
      "1                                   NaN  \n",
      "2                                   NaN  \n",
      "3                                   0.0  \n",
      "4                                   NaN  \n",
      "...                                 ...  \n",
      "603227                              NaN  \n",
      "603228                              NaN  \n",
      "603229                              NaN  \n",
      "603230                              NaN  \n",
      "603231                              NaN  \n",
      "\n",
      "[603232 rows x 3 columns]\n"
     ]
    }
   ],
   "source": [
    "# Calcular el porcentaje de microcréditos para mujeres\n",
    "data['PORCENTAJE_MICROCREDITO_MUJERES'] = data['NRO MICROCREDITO MUJERES'] / data['NRO TOTAL MICROCREDITO ']\n",
    "\n",
    "# Verificar el resultado\n",
    "print(data[['NRO MICROCREDITO MUJERES', 'NRO TOTAL MICROCREDITO ', 'PORCENTAJE_MICROCREDITO_MUJERES']])\n"
   ]
  },
  {
   "cell_type": "code",
   "execution_count": 65,
   "metadata": {},
   "outputs": [
    {
     "name": "stdout",
     "output_type": "stream",
     "text": [
      "count    603232.000000\n",
      "mean          0.736831\n",
      "std           1.996027\n",
      "min           0.000000\n",
      "25%           0.000000\n",
      "50%           0.000000\n",
      "75%           0.000000\n",
      "max          17.342028\n",
      "Name: NRO DEPOSITOS_LOG, dtype: float64\n"
     ]
    }
   ],
   "source": [
    "import numpy as np\n",
    "\n",
    "# Agregar una constante positiva (1) a la característica para evitar ceros\n",
    "data['NRO DEPOSITOS_LOG'] = np.log(data['NRO DEPOSITOS'] + 1)\n",
    "\n",
    "# Verificar la distribución después de la transformación\n",
    "print(data['NRO DEPOSITOS_LOG'].describe())\n",
    "\n"
   ]
  },
  {
   "cell_type": "markdown",
   "metadata": {},
   "source": [
    "Para probar distintos modelos y elegir el mejor, primero, recordemos que tenemos las siguientes características en nuestro conjunto de datos:\n",
    "\n",
    "Características relacionadas con cuentas de ahorro:\n",
    "\n",
    "- \"NRO CTA AHORRO HASTA 1 SMMLV\"\n",
    "- \"NRO CTA AHORRO > 1 SMMLV HASTA 3 SMMLV\"\n",
    "- \"NRO CTA AHORRO > 3 SMMLV HASTA 5 SMMLV\"\n",
    "- \"NRO CTA AHORRO ACTIVAS\"\n",
    "- \"NRO CTA AHORRO MUJERES\"\n",
    "- \"NRO CTA AHORRO HOMBRES\"\n",
    "\n",
    "Características relacionadas con créditos de consumo:\n",
    "\n",
    "- \"NRO CREDITO CONSUMO MUJERES\"\n",
    "- \"NRO CREDITO CONSUMO HOMBRES\"\n",
    "-\"NRO TOTAL CREDITO CONSUMO\"\n",
    "\n",
    "Características relacionadas con microcréditos:\n",
    "\n",
    "- \"NRO MICROCREDITO MUJERES\"\n",
    "- \"NRO MICROCREDITO HOMBRES\"\n",
    "- \"NRO TOTAL MICROCREDITO\"\n",
    "\n",
    "Características transformadas:\n",
    "\n",
    "- \"NRO DEPOSITOS_LOG\"\n",
    "- \"MONTO GIROS ENVIADOS_LOG\"\n",
    "- \"NRO GIROS RECIBIDOS_LOG\""
   ]
  },
  {
   "cell_type": "code",
   "execution_count": 67,
   "metadata": {},
   "outputs": [
    {
     "name": "stdout",
     "output_type": "stream",
     "text": [
      "Index(['TIPO DE ENTIDAD', 'CODIGO DE LA  ENTIDAD', 'NOMBRE DE LA  ENTIDAD',\n",
      "       'FECHA DE CORTE', 'UNIDAD DE CAPTURA', 'DEPARTAMENTO', 'RENGLON',\n",
      "       'MUNICIPIO', 'TIPO', 'NRO CORRESPONSALES PROPIOS',\n",
      "       'NRO CORRESPONSALES TERCERIZADOS', 'NRO CORRESPONSALES ACTIVOS',\n",
      "       'NRO CORRESPONSALES', 'NRO DEPOSITOS', 'MONTO DEPOSITOS',\n",
      "       'NRO GIROS ENVIADOS ', 'MONTO GIROS ENVIADOS ', 'NRO GIROS RECIBIDOS',\n",
      "       'MONTO GIROS RECIBIDOS', 'NRO PAGOS', 'MONTO PAGOS', 'NRO RETIROS',\n",
      "       'MONTO RETIROS', 'NRO TRANSFERENCIAS', 'MONTO TRANSFERENCIAS',\n",
      "       'NRO TOTAL ', 'MONTO TOTAL', 'NRO CTA AHORRO HASTA 1 SMMLV',\n",
      "       'SALDO CTA AHORRO HASTA 1 SMMLV',\n",
      "       'NRO CTA AHORRO > 1 SMMLV HASTA 3 SMMLV',\n",
      "       'SALDO CTA AHORRO> 1 SMMLV HASTA 3 SMMLV',\n",
      "       'NRO CTA AHORRO> 3 SMMLV HASTA 5 SMMLV',\n",
      "       'SALDO CTA AHORRO> 3 SMMLV HASTA 5 SMMLV', 'NRO CTA AHORRO ACTIVAS',\n",
      "       'SALDO CTA AHORRO ACTIVAS', 'NRO CTA AHORRO MUJERES',\n",
      "       'SALDO CTA AHORRO MUJERES', 'NRO CTA AHORRO HOMBRES',\n",
      "       'SALDO CTA AHORRO HOMBRES', 'NRO TOTAL CTA AHORROS',\n",
      "       'SALDO TOTAL CTA AHORROS', 'NRO CTA AHORRO ELECTRONICAS ACTIVAS',\n",
      "       'SALDO CTA AHORRO ELECTRONICAS ACTIVAS',\n",
      "       'NRO CTA AHORRO ELECTRONICAS MUJERES',\n",
      "       'SALDO CTA AHORRO ELECTRONICAS MUJERES',\n",
      "       'NRO CTA AHORRO ELECTRONICAS HOMBRES',\n",
      "       'SALDO CTA AHORRO ELECTRONICAS HOMBRES',\n",
      "       'NRO TOTAL CTA AHORROS ELECTRONICAS ',\n",
      "       'SALDO TOTAL CTA AHORROS ELECTRONICAS ', 'NRO CREDITO CONSUMO MUJERES',\n",
      "       'MONTO CREDITO CONSUMO MUJERES', 'NRO CREDITO CONSUMO HOMBRES',\n",
      "       'MONTO CREDITO CONSUMO  HOMBRES', 'NRO TOTAL CREDITO CONSUMO',\n",
      "       'MONTO TOTAL CREDITO CONSUMO', 'NRO CRED CONS BAJO MONTO MUJERES',\n",
      "       'MONTO CRED CONS BAJO MONTO MUJERES',\n",
      "       'NRO CRED CONS BAJO MONTO HOMBRES',\n",
      "       'MONTO CRED CONS BAJO MONTO HOMBRES', 'NRO TOTAL CRED CONS BAJO MONTO',\n",
      "       'MONTO TOTAL CRED CONS BAJO MONTO', 'NRO CREDITO VIVIENDA MUJERES',\n",
      "       'MONTO CREDITO VIVIENDA MUJERES', 'NRO CREDITO VIVIENDA HOMBRES',\n",
      "       'MONTO CREDITO VIVIENDA HOMBRES', 'NRO TOTAL CREDITO VIVIENDA',\n",
      "       'MONTO TOTAL CREDITO VIVIENDA', 'NRO MICROCREDITO HASTA 1 SMMLV',\n",
      "       'MONTO MICROCREDITO HASTA 1 SMMLV',\n",
      "       'NRO MICROCREDITO > 1 SMMLV HASTA 2 SMMLV',\n",
      "       'MONTO MICROCREDITO> 1SMMLV HASTA 2SMMLV',\n",
      "       'NRO MICROCREDITO> 2 SMMLV HASTA 3 SMMLV',\n",
      "       'MONTO MICROCREDITO> 2SMMLV HASTA 3SMMLV',\n",
      "       'NRO MICROCREDITO> 3 SMMLV HASTA 4 SMMLV',\n",
      "       'MONTO MICROCREDITO> 3SMMLV HASTA 4SMMLV',\n",
      "       'NRO MICROCREDITO> 4 SMMLV HASTA 10 SMMLV',\n",
      "       'MONTO MICROCREDITO> 4SMMLV HASTA 10SMML',\n",
      "       'NRO MICROCREDITO> 10SMMLV HASTA 25SMMLV',\n",
      "       'MONTO MICROCREDI> 10SMMLV HASTA 25SMMLV', 'NRO MICROCREDITO MUJERES',\n",
      "       'MONTO MICROCREDITO MUJERES', 'NRO MICROCREDITO HOMBRES',\n",
      "       'MONTO MICROCREDITO HOMBRES', 'NRO TOTAL MICROCREDITO ',\n",
      "       'MONTO TOTAL MICROCREDITO', 'NRO PROD DEPOSITO NIVEL NACIONAL',\n",
      "       'MONTO PROD DEPOSITO NIVEL NACIONAL',\n",
      "       'PORCENTAJE_CUENTAS_AHORRO_ACTIVAS',\n",
      "       'PORCENTAJE_CUENTAS_AHORRO_MUJERES'],\n",
      "      dtype='object')\n"
     ]
    }
   ],
   "source": [
    "print(data_descartada.columns)\n"
   ]
  },
  {
   "cell_type": "code",
   "execution_count": 82,
   "metadata": {},
   "outputs": [],
   "source": [
    "# Eliminar columnas innecesarias solo si existen en el DataFrame\n",
    "columns_to_drop = ['TIPO DE ENTIDAD', 'CODIGO DE LA  ENTIDAD', 'UNIDAD DE CAPTURA', 'RENGLON']\n",
    "existing_columns = [col for col in columns_to_drop if col in data_descartada.columns]\n",
    "data_descartada = data_descartada.drop(columns=existing_columns)\n",
    "\n",
    "# Eliminar espacios adicionales en los nombres de las columnas\n",
    "data_descartada.columns = data_descartada.columns.str.strip()\n",
    "\n",
    "# Dividir los datos en características (X) y variable objetivo (y)\n",
    "X = data_descartada.drop(columns=['NRO TOTAL MICROCREDITO', 'NRO DEPOSITOS', 'NRO GIROS ENVIADOS', 'NRO GIROS RECIBIDOS'])\n",
    "y = data_descartada['NRO TOTAL MICROCREDITO']\n",
    "\n"
   ]
  },
  {
   "cell_type": "code",
   "execution_count": 91,
   "metadata": {},
   "outputs": [],
   "source": [
    "# Eliminar filas con valores faltantes\n",
    "X = X.dropna()\n",
    "y = y[X.index]  # Asegúrate de eliminar las mismas filas en la variable objetivo 'y'\n"
   ]
  },
  {
   "cell_type": "code",
   "execution_count": 93,
   "metadata": {},
   "outputs": [],
   "source": [
    "from sklearn.impute import SimpleImputer\n",
    "\n",
    "# Crear el objeto SimpleImputer\n",
    "imputer = SimpleImputer(strategy='mean')  # Puedes usar 'median' o 'constant' si prefieres\n",
    "\n",
    "# Imputar los valores faltantes en X\n",
    "X_imputed = imputer.fit_transform(X)\n",
    "\n",
    "# Convertir de nuevo a DataFrame\n",
    "X = pd.DataFrame(X_imputed, columns=X.columns)\n"
   ]
  },
  {
   "cell_type": "code",
   "execution_count": 95,
   "metadata": {},
   "outputs": [
    {
     "name": "stdout",
     "output_type": "stream",
     "text": [
      "Index([], dtype='object')\n"
     ]
    }
   ],
   "source": [
    "# Verificar si hay valores no numéricos en las columnas\n",
    "non_numeric_cols = X.select_dtypes(include=[object]).columns\n",
    "print(non_numeric_cols)\n"
   ]
  },
  {
   "cell_type": "code",
   "execution_count": 96,
   "metadata": {},
   "outputs": [
    {
     "name": "stdout",
     "output_type": "stream",
     "text": [
      "Mean Squared Error: 7.6258259197104055\n",
      "R-squared: 0.9999916707010998\n"
     ]
    }
   ],
   "source": [
    "from sklearn.impute import SimpleImputer\n",
    "\n",
    "# Crear un imputador que reemplace los NaN con la media de cada columna\n",
    "imputer = SimpleImputer(strategy='mean')\n",
    "\n",
    "# Ajustar y transformar los datos de entrenamiento\n",
    "X_train_imputed = imputer.fit_transform(X_train)\n",
    "\n",
    "# Transformar los datos de prueba\n",
    "X_test_imputed = imputer.transform(X_test)\n",
    "\n",
    "# Crear un objeto de modelo de regresión lineal\n",
    "model = LinearRegression()\n",
    "\n",
    "# Entrenar el modelo utilizando los datos de entrenamiento imputados\n",
    "model.fit(X_train_imputed, y_train)\n",
    "\n",
    "# Hacer predicciones en los datos de prueba imputados\n",
    "y_pred = model.predict(X_test_imputed)\n",
    "\n",
    "# Calcular el error cuadrático medio (MSE) y el coeficiente de determinación (R-squared)\n",
    "mse = mean_squared_error(y_test, y_pred)\n",
    "r2 = r2_score(y_test, y_pred)\n",
    "\n",
    "print(\"Mean Squared Error:\", mse)\n",
    "print(\"R-squared:\", r2)\n"
   ]
  },
  {
   "cell_type": "markdown",
   "metadata": {},
   "source": [
    "Un Mean Squared Error (MSE) de 7.63 indica que el modelo tiene un ajuste muy cercano a los datos de prueba, ya que el error cuadrático medio es bajo. Además, un R-cuadrado de 0.99999 sugiere que el modelo explica prácticamente toda la variabilidad en los datos de prueba, lo cual es un resultado excepcional.\n",
    "\n",
    "El resultado que se obtuvo muestra un modelo que tiene un error cuadrático medio (MSE) muy bajo y un coeficiente de determinación (R-cuadrado) cercano a 1. Estos son indicadores positivos y sugieren que el modelo tiene un bajo sesgo (bias) y una baja varianza, lo que es deseable en términos del tradeoff entre bias-variance.\n",
    "\n",
    "Un bajo sesgo (bias) significa que el modelo se ajusta bien a los datos de entrenamiento y puede capturar relaciones complejas en los datos.\n",
    "\n",
    "Una baja varianza indica que el modelo generaliza bien a nuevos datos y no es sensible a pequeñas fluctuaciones en el conjunto de entrenamiento.\n",
    "\n",
    "Sin embargo, es importante tener en cuenta que los resultados pueden ser demasiado buenos para ser ciertos, y es posible que el modelo esté sobreajustando los datos. Para confirmar que el modelo generaliza bien, es esencial evaluarlo en un conjunto de prueba independiente y realizar técnicas de validación cruzada para obtener estimaciones más robustas del rendimiento del modelo."
   ]
  },
  {
   "cell_type": "markdown",
   "metadata": {},
   "source": [
    "### Modelo  Gradient Boosting"
   ]
  },
  {
   "cell_type": "code",
   "execution_count": 116,
   "metadata": {},
   "outputs": [
    {
     "name": "stdout",
     "output_type": "stream",
     "text": [
      "Gradient Boosting - Mean Squared Error: 971.9667989486945\n",
      "Gradient Boosting - R-squared: 0.9989383704696735\n"
     ]
    }
   ],
   "source": [
    "\n",
    "import pandas as pd\n",
    "import numpy as np\n",
    "from sklearn.preprocessing import LabelEncoder\n",
    "from sklearn.model_selection import train_test_split\n",
    "from sklearn.ensemble import GradientBoostingRegressor\n",
    "from sklearn.metrics import mean_squared_error, r2_score\n",
    "from sklearn.impute import SimpleImputer\n",
    "\n",
    "# Llenar los valores faltantes con la media\n",
    "imputer = SimpleImputer(strategy='mean')\n",
    "X_imputed = imputer.fit_transform(X)\n",
    "\n",
    "# Dividir los datos en conjuntos de entrenamiento y prueba\n",
    "X_train, X_test, y_train, y_test = train_test_split(X_imputed, y, test_size=0.2, random_state=42)\n",
    "\n",
    "# Crear un objeto de modelo de Gradient Boosting\n",
    "gb_model = GradientBoostingRegressor(n_estimators=100, learning_rate=0.1, random_state=42)\n",
    "\n",
    "# Entrenar el modelo utilizando los datos de entrenamiento\n",
    "gb_model.fit(X_train, y_train)\n",
    "\n",
    "# Hacer predicciones en los datos de prueba\n",
    "y_pred_gb = gb_model.predict(X_test)\n",
    "\n",
    "# Calcular el error cuadrático medio (MSE) y el coeficiente de determinación (R-squared)\n",
    "mse_gb = mean_squared_error(y_test, y_pred_gb)\n",
    "r2_gb = r2_score(y_test, y_pred_gb)\n",
    "\n",
    "print(\"Gradient Boosting - Mean Squared Error:\", mse_gb)\n",
    "print(\"Gradient Boosting - R-squared:\", r2_gb)"
   ]
  },
  {
   "cell_type": "markdown",
   "metadata": {},
   "source": [
    "El resultado parece ser bastante bueno, ya que el valor del coeficiente de determinación (R-squared) es cercano a 1, lo que indica que el modelo es capaz de explicar una gran cantidad de la varianza en los datos de prueba. Además, el valor del error cuadrático medio (Mean Squared Error) es relativamente bajo, lo que sugiere que las predicciones del modelo son cercanas a los valores reales.\n",
    "\n",
    "Los dos modelos: Regresión Lineal y Gradient Boosting Regressor. Los resultados obtenidos indican que ambos modelos tienen un rendimiento muy alto, ya que el valor del coeficiente de determinación (R-squared) es cercano a 1 y el error cuadrático medio (MSE) es bajo. Esto sugiere que los modelos han capturado bien las relaciones en los datos y tienen una buena capacidad de predicción."
   ]
  },
  {
   "cell_type": "markdown",
   "metadata": {},
   "source": [
    "### PCA sobre las variables usadas "
   ]
  },
  {
   "cell_type": "code",
   "execution_count": 127,
   "metadata": {},
   "outputs": [
    {
     "name": "stdout",
     "output_type": "stream",
     "text": [
      "Loadings PC1:\n",
      "NRO CTA AHORRO ACTIVAS                      0.270800\n",
      "SALDO CTA AHORRO HASTA 1 SMMLV              0.270758\n",
      "SALDO CTA AHORRO MUJERES                    0.269671\n",
      "SALDO CTA AHORRO HOMBRES                    0.269587\n",
      "SALDO CTA AHORRO> 3 SMMLV HASTA 5 SMMLV     0.269572\n",
      "                                              ...   \n",
      "MONTO MICROCREDITO> 2SMMLV HASTA 3SMMLV    -0.002692\n",
      "NRO MICROCREDITO> 4 SMMLV HASTA 10 SMMLV   -0.002750\n",
      "MONTO MICROCREDITO> 4SMMLV HASTA 10SMML    -0.002758\n",
      "MUNICIPIO                                  -0.007270\n",
      "NOMBRE DE LA  ENTIDAD                      -0.010334\n",
      "Name: PC1, Length: 81, dtype: float64\n",
      "\n",
      "Loadings PC2:\n",
      "MONTO MICROCREDITO> 2SMMLV HASTA 3SMMLV     0.311778\n",
      "NRO MICROCREDITO> 2 SMMLV HASTA 3 SMMLV     0.310647\n",
      "MONTO MICROCREDITO> 4SMMLV HASTA 10SMML     0.307476\n",
      "NRO MICROCREDITO> 4 SMMLV HASTA 10 SMMLV    0.307402\n",
      "MONTO MICROCREDITO> 1SMMLV HASTA 2SMMLV     0.293503\n",
      "                                              ...   \n",
      "MONTO TOTAL                                -0.004162\n",
      "NRO TOTAL                                  -0.004171\n",
      "NRO PAGOS                                  -0.004205\n",
      "PORCENTAJE_CUENTAS_AHORRO_ACTIVAS          -0.008149\n",
      "MUNICIPIO                                  -0.011649\n",
      "Name: PC2, Length: 81, dtype: float64\n"
     ]
    }
   ],
   "source": [
    "import pandas as pd\n",
    "import numpy as np\n",
    "from sklearn.preprocessing import StandardScaler\n",
    "from sklearn.decomposition import PCA\n",
    "from sklearn.impute import KNNImputer\n",
    "\n",
    "# Utilizar solo las primeras 10000 filas de datos para agilizar el proceso\n",
    "data_sample = data_descartada.head(10000)\n",
    "\n",
    "# Extraer las variables numéricas y estandarizar los datos\n",
    "X = data_sample.drop(columns=['NRO TOTAL MICROCREDITO', 'NRO DEPOSITOS', 'NRO GIROS ENVIADOS', 'NRO GIROS RECIBIDOS'])\n",
    "scaler = StandardScaler()\n",
    "X_std = scaler.fit_transform(X)\n",
    "\n",
    "# Imputar los valores faltantes utilizando KNNImputer\n",
    "imputer = KNNImputer(n_neighbors=5)\n",
    "X_imputed = imputer.fit_transform(X_std)\n",
    "\n",
    "# Aplicar PCA con 2 componentes principales\n",
    "pca = PCA(n_components=2)\n",
    "principal_components = pca.fit_transform(X_imputed)\n",
    "\n",
    "# Obtener las cargas de las variables en los dos primeros componentes\n",
    "loadings = pd.DataFrame(pca.components_.T, index=X.columns, columns=['PC1', 'PC2'])\n",
    "\n",
    "# Ordenar las variables según sus cargas en el primer componente\n",
    "loadings_pc1 = loadings['PC1'].sort_values(ascending=False)\n",
    "\n",
    "# Ordenar las variables según sus cargas en el segundo componente\n",
    "loadings_pc2 = loadings['PC2'].sort_values(ascending=False)\n",
    "\n",
    "print(\"Loadings PC1:\")\n",
    "print(loadings_pc1)\n",
    "\n",
    "print(\"\\nLoadings PC2:\")\n",
    "print(loadings_pc2)\n"
   ]
  },
  {
   "cell_type": "markdown",
   "metadata": {},
   "source": [
    "Loadings PC1:\n",
    "\n",
    "El componente principal 1 (PC1) está más influenciado por las siguientes variables con cargas positivas:\n",
    "\n",
    "- NRO CTA AHORRO ACTIVAS: Mayor número de cuentas de ahorro activas.\n",
    "- SALDO CTA AHORRO HASTA 1 SMMLV: Mayor saldo promedio de cuentas de ahorro con montos menores a 1 SMMLV.\n",
    "- SALDO CTA AHORRO MUJERES: Mayor saldo promedio de cuentas de ahorro para mujeres.\n",
    "- SALDO CTA AHORRO HOMBRES: Mayor saldo promedio de cuentas de ahorro para hombres.\n",
    "- SALDO CTA AHORRO> 3 SMMLV HASTA 5 SMMLV: Mayor saldo promedio de cuentas de ahorro con montos entre 3 y 5 SMMLV.\n",
    "\n",
    "Las siguientes variables tienen cargas negativas, lo que indica que están inversamente relacionadas con PC1:\n",
    "\n",
    "- MONTO MICROCREDITO> 2SMMLV HASTA 3SMMLV: Mayor monto promedio de microcréditos con montos entre 2 y 3 SMMLV.\n",
    "- NRO MICROCREDITO> 2 SMMLV HASTA 3 SMMLV: Mayor número de microcréditos con montos entre 2 y 3 SMMLV.\n",
    "- MONTO MICROCREDITO> 4SMMLV HASTA 10SMML: Mayor monto promedio de microcréditos con montos entre 4 y 10 SMMLV.\n",
    "- NRO MICROCREDITO> 4 SMMLV HASTA 10 SMMLV: Mayor número de microcréditos con montos entre 4 y 10 SMMLV.\n",
    "- MONTO MICROCREDITO> 1SMMLV HASTA 2SMMLV: Mayor monto promedio de microcréditos con montos entre 1 y 2 SMMLV.\n",
    "\n",
    "Loadings PC2:\n",
    "\n",
    "El componente principal 2 (PC2) está más influenciado por las siguientes variables con cargas positivas:\n",
    "\n",
    "- MONTO MICROCREDITO> 2SMMLV HASTA 3SMMLV: Mayor monto promedio de microcréditos con montos entre 2 y 3 SMMLV.\n",
    "- NRO MICROCREDITO> 2 SMMLV HASTA 3 SMMLV: Mayor número de microcréditos con montos entre 2 y 3 SMMLV.\n",
    "- MONTO MICROCREDITO> 4SMMLV HASTA 10SMML: Mayor monto promedio de microcréditos con montos entre 4 y 10 SMMLV.\n",
    "- NRO MICROCREDITO> 4 SMMLV HASTA 10 SMMLV: Mayor número de microcréditos con montos entre 4 y 10 SMMLV.\n",
    "\n",
    "Las siguientes variables tienen cargas negativas, lo que indica que están inversamente relacionadas con PC2:\n",
    "\n",
    "- MONTO MICROCREDITO HASTA 1 SMMLV: Mayor monto promedio de microcréditos con montos menores o iguales a 1 SMMLV.\n",
    "- NRO MICROCREDITO HASTA 1 SMMLV: Mayor número de microcréditos con montos menores o iguales a 1 SMMLV.\n",
    "- MONTO MICROCREDITO MUJERES: Mayor monto promedio de microcréditos para mujeres.\n",
    "- NRO MICROCREDITO MUJERES: Mayor número de microcréditos para mujeres.\n",
    "- MONTO CREDITO CONSUMO MUJERES: Mayor monto promedio de créditos de consumo para mujeres."
   ]
  },
  {
   "cell_type": "code",
   "execution_count": null,
   "metadata": {},
   "outputs": [],
   "source": []
  }
 ],
 "metadata": {
  "kernelspec": {
   "display_name": "Python 3",
   "language": "python",
   "name": "python3"
  },
  "language_info": {
   "codemirror_mode": {
    "name": "ipython",
    "version": 3
   },
   "file_extension": ".py",
   "mimetype": "text/x-python",
   "name": "python",
   "nbconvert_exporter": "python",
   "pygments_lexer": "ipython3",
   "version": "3.11.4"
  },
  "orig_nbformat": 4
 },
 "nbformat": 4,
 "nbformat_minor": 2
}
